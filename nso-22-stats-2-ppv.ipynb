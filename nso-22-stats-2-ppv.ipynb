{
 "cells": [
  {
   "cell_type": "markdown",
   "id": "a8f85dcf-5c86-41e1-9d30-55b1a281e750",
   "metadata": {
    "slideshow": {
     "slide_type": "slide"
    }
   },
   "source": [
    "# Gaining knowledge from tests\n",
    "#### Max Collard\n",
    "#### UCSF Neuroscience Orientation 2022"
   ]
  },
  {
   "cell_type": "markdown",
   "id": "5e37e682",
   "metadata": {
    "slideshow": {
     "slide_type": "skip"
    }
   },
   "source": [
    "---"
   ]
  },
  {
   "cell_type": "markdown",
   "id": "114a3f34",
   "metadata": {
    "slideshow": {
     "slide_type": "slide"
    }
   },
   "source": [
    "# A clairvoyant mouse?"
   ]
  },
  {
   "cell_type": "markdown",
   "id": "0cc2e36b",
   "metadata": {
    "slideshow": {
     "slide_type": "fragment"
    }
   },
   "source": [
    "You look at your data, and you see that you **reject the null hypothesis** that *manipulated mice do not predict the future* with a $p$-value of 0.014."
   ]
  },
  {
   "cell_type": "markdown",
   "id": "93511db8",
   "metadata": {
    "slideshow": {
     "slide_type": "fragment"
    }
   },
   "source": [
    "### What do you do with this information?"
   ]
  },
  {
   "cell_type": "markdown",
   "id": "d8e27c40",
   "metadata": {
    "slideshow": {
     "slide_type": "skip"
    }
   },
   "source": [
    "---"
   ]
  },
  {
   "cell_type": "markdown",
   "id": "bd0f6875",
   "metadata": {
    "slideshow": {
     "slide_type": "slide"
    }
   },
   "source": [
    "# Let's think about it another way"
   ]
  },
  {
   "cell_type": "markdown",
   "id": "2bb6f453",
   "metadata": {
    "slideshow": {
     "slide_type": "fragment"
    }
   },
   "source": [
    "For the last four weeks, you've been doing nothing but sitting in your room alone studying for your qualifying exam, with **absolutely zero human contact**."
   ]
  },
  {
   "cell_type": "markdown",
   "id": "6c7e2975",
   "metadata": {
    "slideshow": {
     "slide_type": "fragment"
    }
   },
   "source": [
    "You take it and pass—**hooray!**"
   ]
  },
  {
   "cell_type": "markdown",
   "id": "ea58081b",
   "metadata": {
    "slideshow": {
     "slide_type": "subslide"
    }
   },
   "source": [
    "But while you've been away studying, UCSF has announced a new policy requiring all graduate students to be tested for Covid-19 daily. You must provide a negative test result before entering any research building on-campus! (*No, not really.*)"
   ]
  },
  {
   "cell_type": "markdown",
   "id": "5c99fd98",
   "metadata": {
    "slideshow": {
     "slide_type": "fragment"
    }
   },
   "source": [
    "You grab a test from one of the Color vending machines and wait at home for the results to come back. The next day, you get an email:"
   ]
  },
  {
   "cell_type": "markdown",
   "id": "6abc1300",
   "metadata": {
    "slideshow": {
     "slide_type": "subslide"
    }
   },
   "source": [
    "```\n",
    "SARS-CoV-2 mRNA:    DETECTED\n",
    "```"
   ]
  },
  {
   "cell_type": "markdown",
   "id": "fad002e5",
   "metadata": {
    "slideshow": {
     "slide_type": "fragment"
    }
   },
   "source": [
    "# Do you think you have Covid?"
   ]
  },
  {
   "cell_type": "markdown",
   "id": "fec459a9",
   "metadata": {
    "slideshow": {
     "slide_type": "fragment"
    }
   },
   "source": [
    "## Why do you think that?"
   ]
  },
  {
   "cell_type": "markdown",
   "id": "3ef4beda",
   "metadata": {
    "slideshow": {
     "slide_type": "skip"
    }
   },
   "source": [
    "---"
   ]
  },
  {
   "cell_type": "markdown",
   "id": "efae4d8d-0680-49dd-9db8-3fb1ec07291a",
   "metadata": {
    "slideshow": {
     "slide_type": "slide"
    }
   },
   "source": [
    "# Let's scale it up"
   ]
  },
  {
   "cell_type": "markdown",
   "id": "f52191c9",
   "metadata": {
    "slideshow": {
     "slide_type": "subslide"
    }
   },
   "source": [
    "Right now (8/23/22), the incidence of Covid in San Francisco is about 20.6 per 100,000; let's be conservative and say that the prevalence of Covid is about 14 times this, or 288.4 per 100,000 (though prevalence is, in practice, quite difficult to measure). If you were to pick a person at random from San Francisco with no other knowledge, this would be about the chance of picking someone who currently has Covid."
   ]
  },
  {
   "cell_type": "code",
   "execution_count": 34,
   "id": "fbd2ca55-2f09-459b-bd53-8eba2b0ffd2d",
   "metadata": {},
   "outputs": [],
   "source": [
    "# September 2021\n",
    "# covid_prevalence = 350 / 100000\n",
    "\n",
    "# August 2022\n",
    "covid_prevalence = 288.4 / 100000"
   ]
  },
  {
   "cell_type": "markdown",
   "id": "c3050613",
   "metadata": {
    "slideshow": {
     "slide_type": "subslide"
    }
   },
   "source": [
    "### Recall\n",
    "\n",
    "The $p$-value is defined by thinking about what our observations would be by chance if we **pre-suppose that the null hypothesis is in fact true**:\n",
    "\n",
    "$$ p = \\mathrm{Pr}(\\textrm{we observe a difference} \\mid \\textrm{there is no difference}) $$"
   ]
  },
  {
   "cell_type": "markdown",
   "id": "11f5dcb2",
   "metadata": {
    "slideshow": {
     "slide_type": "fragment"
    }
   },
   "source": [
    "> This is convenient to use, because we can always **impose** the null hypothesis by shuffling our data. This is called **permutation testing**."
   ]
  },
  {
   "cell_type": "markdown",
   "id": "8852bebd",
   "metadata": {
    "slideshow": {
     "slide_type": "subslide"
    }
   },
   "source": [
    "<img src=\"figures/ppv/f7.png\"/>"
   ]
  },
  {
   "cell_type": "markdown",
   "id": "fc28e31d",
   "metadata": {
    "slideshow": {
     "slide_type": "subslide"
    }
   },
   "source": [
    "<img src=\"figures/ppv/f6.png\" />"
   ]
  },
  {
   "cell_type": "markdown",
   "id": "b14e4c5d-4eee-42d0-96a1-60687d01763c",
   "metadata": {
    "slideshow": {
     "slide_type": "subslide"
    }
   },
   "source": [
    "Usually, diagnostic tests are evaluated kind of like $p$-values: we use measures that ask how the *test* behaves when we **pre-suppose the truth**."
   ]
  },
  {
   "cell_type": "markdown",
   "id": "870fa1fe",
   "metadata": {
    "slideshow": {
     "slide_type": "subslide"
    }
   },
   "source": [
    "**Sensitivity** measures the probability that a person tests positive **given that they actually have the disease**:\n",
    "\n",
    "$$ \\mathrm{sensitivity} = \\mathrm{Pr}(\\textrm{test }+ \\mid \\textrm{actually }+) $$"
   ]
  },
  {
   "cell_type": "markdown",
   "id": "2662693f",
   "metadata": {
    "slideshow": {
     "slide_type": "fragment"
    }
   },
   "source": [
    "**Specificity** measures the probability that a person tests negative **given that they actually *do not* have the disease**:\n",
    "\n",
    "$$ \\mathrm{specificity} = \\mathrm{Pr}(\\textrm{test }- \\mid \\textrm{actually }-) $$"
   ]
  },
  {
   "cell_type": "markdown",
   "id": "d5b49e21",
   "metadata": {
    "slideshow": {
     "slide_type": "subslide"
    }
   },
   "source": [
    "<img src=\"figures/ppv/f8.png\"/>"
   ]
  },
  {
   "cell_type": "markdown",
   "id": "f171b625",
   "metadata": {
    "slideshow": {
     "slide_type": "subslide"
    }
   },
   "source": [
    "#### N.B.\n",
    "\n",
    "The $p$-value can be thought of as\n",
    "\n",
    "$$ p = \\mathrm{Pr}(\\textrm{test }+ \\mid \\textrm{actually }-) $$\n",
    "\n",
    "Because there are only two test outcomes, $+$ and $-$, this means that\n",
    "\n",
    "$$\\begin{eqnarray*}\n",
    "p & = & 1 - \\mathrm{Pr}(\\textrm{test }- \\mid \\textrm{actually }-) \\\\\n",
    "& = & 1 - \\mathrm{specificity}\n",
    "\\end{eqnarray*}$$\n",
    "\n",
    "So, the $p$-value is in the same \"family\" of measures about a test as sensitivity and specificity."
   ]
  },
  {
   "cell_type": "markdown",
   "id": "ecff23b4",
   "metadata": {
    "slideshow": {
     "slide_type": "subslide"
    }
   },
   "source": [
    "Let's suppose that the currently used RT-PCR test for Covid has approximately the following characteristics:"
   ]
  },
  {
   "cell_type": "code",
   "execution_count": 35,
   "id": "d0933490-a769-4cfa-a577-148d588de47e",
   "metadata": {},
   "outputs": [],
   "source": [
    "# September 2021\n",
    "rtpcr_sensitivity = 0.777\n",
    "rtpcr_specificity = 0.988\n",
    "\n",
    "# August 2022\n",
    "rtpcr_sensitivity = 0.733 # https://www.ncbi.nlm.nih.gov/pmc/articles/PMC7350782/\n",
    "rtpcr_specificity = 0.97 # https://www.uptodate.com/contents/covid-19-diagnosis"
   ]
  },
  {
   "cell_type": "markdown",
   "id": "245b3cfc",
   "metadata": {},
   "source": [
    "> (These are based on contemporary literature, although finding these values is quite challenging in practice.)"
   ]
  },
  {
   "cell_type": "markdown",
   "id": "43c21554",
   "metadata": {
    "slideshow": {
     "slide_type": "subslide"
    }
   },
   "source": [
    "Note that the $p$-value of this test is:"
   ]
  },
  {
   "cell_type": "code",
   "execution_count": 36,
   "id": "781dabee",
   "metadata": {},
   "outputs": [
    {
     "name": "stdout",
     "output_type": "stream",
     "text": [
      "p = 0.0300\n"
     ]
    }
   ],
   "source": [
    "print( f'p = {1 - rtpcr_specificity:0.4f}' )"
   ]
  },
  {
   "cell_type": "markdown",
   "id": "d5b60186",
   "metadata": {
    "slideshow": {
     "slide_type": "subslide"
    }
   },
   "source": [
    "# You just got a positive test.\n",
    "\n",
    "## What do the sensitivity and specificity tell you?"
   ]
  },
  {
   "cell_type": "markdown",
   "id": "298b62f1",
   "metadata": {
    "slideshow": {
     "slide_type": "skip"
    }
   },
   "source": [
    "---"
   ]
  },
  {
   "cell_type": "markdown",
   "id": "5b787d91",
   "metadata": {
    "slideshow": {
     "slide_type": "slide"
    }
   },
   "source": [
    "You already **know** that you've tested positive. What you would like to **infer** is whether or not you actually have Covid."
   ]
  },
  {
   "cell_type": "markdown",
   "id": "b6a51972",
   "metadata": {
    "slideshow": {
     "slide_type": "fragment"
    }
   },
   "source": [
    "## Sensitivity and specificity do not tell you this\n",
    "\n",
    "(And so, neither do **$p$-values**!)"
   ]
  },
  {
   "cell_type": "markdown",
   "id": "c90aede5",
   "metadata": {
    "slideshow": {
     "slide_type": "subslide"
    }
   },
   "source": [
    "What you want to know are the quantities with the **opposite conditioning**: we **know** the test result once we get it, but we must **infer** the truth about whether we actually have Covid **given** that test result."
   ]
  },
  {
   "cell_type": "markdown",
   "id": "3ae4be34",
   "metadata": {
    "slideshow": {
     "slide_type": "subslide"
    }
   },
   "source": [
    "<img src=\"figures/ppv/f9.png\"/>"
   ]
  },
  {
   "cell_type": "markdown",
   "id": "49908986-2adf-4a8a-ad0b-c4055cddc429",
   "metadata": {
    "slideshow": {
     "slide_type": "subslide"
    }
   },
   "source": [
    "**Positive predictive value** is the probability one *actually has the disease* **given** a positive test result:\n",
    "\n",
    "$$ \\mathrm{PPV} = \\mathrm{Pr}(\\textrm{actually }+ \\mid \\textrm{test }+) $$\n",
    "\n",
    "Now that you have a positive Covid test, the **PPV** is the probability that you **actually** have Covid.\n",
    "\n",
    "**Negative predictive value** is the probability one *actually does not have the disease* **given** a negative test result:\n",
    "\n",
    "$$ \\mathrm{NPV} = \\mathrm{Pr}(\\textrm{actually }- \\mid \\textrm{test }-) $$"
   ]
  },
  {
   "cell_type": "markdown",
   "id": "0b5c30b6",
   "metadata": {
    "slideshow": {
     "slide_type": "subslide"
    }
   },
   "source": [
    "<img src=\"figures/ppv/f10.png\"/>"
   ]
  },
  {
   "cell_type": "markdown",
   "id": "792c92b0",
   "metadata": {
    "slideshow": {
     "slide_type": "subslide"
    }
   },
   "source": [
    "### What do you think are the PPV and NPV for the RT-PCR test?"
   ]
  },
  {
   "cell_type": "code",
   "execution_count": 14,
   "id": "689e403b-d9c9-4ae6-b41b-e7adeacdc6d8",
   "metadata": {
    "slideshow": {
     "slide_type": "notes"
    }
   },
   "outputs": [],
   "source": [
    "import numpy as np\n",
    "\n",
    "# I'm going to be re-using this simulation a lot, so I'll make it a function\n",
    "def sample_results( n, prevalence, sensitivity, specificity ):\n",
    "    \"\"\"Sample disease presence and test results with the given characteristics\n",
    "    \n",
    "    Arguments:\n",
    "    n -- The number of individiuals to sample\n",
    "    prevalence -- The probability of finding the actual disease in the population\n",
    "    sensitivity -- The probability of testing positive given one has the disease\n",
    "    specificity -- The probability of testing negative given one does not have the disease\n",
    "\n",
    "    Reutrns:\n",
    "    has_disease -- Shape (n,), whether each individual has the disease\n",
    "    test_results -- Shape (n,), whether each individual tests positive for the disease\n",
    "    \"\"\"\n",
    "    \n",
    "    # First, simulate the \"truth\":\n",
    "    # The fraction of the time that a uniform random number between 0 and 1\n",
    "    # is below `prevalence` is ... `prevalence`!\n",
    "    has_disease = np.random.uniform( size = (n,) ) < prevalence\n",
    "    \n",
    "    # Now, use sensitivity and specificity to determine test results based on the truth\n",
    "    \n",
    "    # Pre-allocate where I'm going to store the results\n",
    "    test_results = np.zeros( (n,), dtype = bool )\n",
    "    # We need a \"hidden\" random variable to determine the results of each test\n",
    "    hidden_randoms = np.random.uniform( size = (n,) )\n",
    "    \n",
    "    # Iterate over each individual in the population\n",
    "    # N.B.: I'm doing some Python magic here:\n",
    "    # * `enumerate` allows me to iterate through a something and also keep track of its index\n",
    "    # * `zip` allows me to \"glue together\" two iterable things (like arrays) element by element.\n",
    "    # Writing my code this way helps prevent me from losing track of what index belongs to what\n",
    "    for i_individual, (individual_has_disease, individual_hidden) in enumerate( zip( has_disease, hidden_randoms ) ):\n",
    "        if individual_has_disease:\n",
    "            # As above, this will be true `sensitivity` portion of the time\n",
    "            if individual_hidden < sensitivity:\n",
    "                # *Given* the individual has the disease, `sensitivity` portion of the time,\n",
    "                # the person will test *positive*\n",
    "                test_results[i_individual] = True\n",
    "            else:\n",
    "                # ... otherwise, they test negative\n",
    "                test_results[i_individual] = False\n",
    "        else:\n",
    "            if individual_hidden < specificity:\n",
    "                # *Given* the individual *does not* have the disease, `specificity` portion of the time,\n",
    "                # the person will test *negative*\n",
    "                test_results[i_individual] = False\n",
    "            else:\n",
    "                # ... otherwise, they test positive\n",
    "                test_results[i_individual] = True\n",
    "    \n",
    "    return has_disease, test_results"
   ]
  },
  {
   "cell_type": "markdown",
   "id": "fc1e41e7",
   "metadata": {
    "slideshow": {
     "slide_type": "skip"
    }
   },
   "source": [
    "#### N.B.\n",
    "\n",
    "Always write docstrings for your code:"
   ]
  },
  {
   "cell_type": "code",
   "execution_count": 15,
   "id": "cc4a4fc4",
   "metadata": {
    "slideshow": {
     "slide_type": "skip"
    }
   },
   "outputs": [
    {
     "name": "stdout",
     "output_type": "stream",
     "text": [
      "Help on function sample_results in module __main__:\n",
      "\n",
      "sample_results(n, prevalence, sensitivity, specificity)\n",
      "    Sample disease presence and test results with the given characteristics\n",
      "    \n",
      "    Arguments:\n",
      "    n -- The number of individiuals to sample\n",
      "    prevalence -- The probability of finding the actual disease in the population\n",
      "    sensitivity -- The probability of testing positive given one has the disease\n",
      "    specificity -- The probability of testing negative given one does not have the disease\n",
      "    \n",
      "    Reutrns:\n",
      "    has_disease -- Shape (n,), whether each individual has the disease\n",
      "    test_results -- Shape (n,), whether each individual tests positive for the disease\n",
      "\n"
     ]
    }
   ],
   "source": [
    "help( sample_results )"
   ]
  },
  {
   "cell_type": "markdown",
   "id": "f422d98a",
   "metadata": {
    "slideshow": {
     "slide_type": "subslide"
    }
   },
   "source": [
    "Let's simulate one day's worth of Covid tests at UCSF:"
   ]
  },
  {
   "cell_type": "code",
   "execution_count": 37,
   "id": "2ab85d35-0c25-432b-8822-9e0f24e8548f",
   "metadata": {
    "slideshow": {
     "slide_type": "fragment"
    }
   },
   "outputs": [
    {
     "name": "stdout",
     "output_type": "stream",
     "text": [
      "Cases today: 57\n",
      "Positive tests today: 785\n"
     ]
    }
   ],
   "source": [
    "# Approximately the number of employees at UCSF\n",
    "n_employees = 24000\n",
    "# Run our simulation and grab the results\n",
    "has_covid, rtpcr_positive = sample_results( n_employees,\n",
    "                                            covid_prevalence,\n",
    "                                            rtpcr_sensitivity,\n",
    "                                            rtpcr_specificity )\n",
    "\n",
    "# If I put an f in front of my string, I can use curly braces to\n",
    "# put Python code inside of it\n",
    "print( f'Cases today: {np.sum( has_covid )}' )\n",
    "print( f'Positive tests today: {np.sum( rtpcr_positive )}' )"
   ]
  },
  {
   "cell_type": "markdown",
   "id": "6910eb59-998f-4d3a-9c3c-210162e54ae7",
   "metadata": {
    "slideshow": {
     "slide_type": "subslide"
    }
   },
   "source": [
    "Clearly something funky is going on: **there are way more positive tests than cases**!\n",
    "\n",
    "As is always good practice, let's take a look at a subsample of the raw data:"
   ]
  },
  {
   "cell_type": "code",
   "execution_count": 17,
   "id": "72425530-c8fe-40ae-b023-1918f8fbfcf7",
   "metadata": {
    "slideshow": {
     "slide_type": "notes"
    }
   },
   "outputs": [],
   "source": [
    "import matplotlib.pyplot as plt\n",
    "\n",
    "# I'm going to make the same plot later, so I'll make a function I can reuse so I don't duplicate code\n",
    "def sample_plot( ax, has_disease, test_results,\n",
    "                 n_sample = 1000 ):\n",
    "    \"\"\"Plot a bit of the data from `sample_results`\n",
    "    \n",
    "    Arguments:\n",
    "    ax -- The axis handle to plot inside of\n",
    "    has_disease, test_results -- Output from `sample_results\n",
    "    \n",
    "    Keyword arguments:\n",
    "    n_sample -- Number of individuals to show in the plot\n",
    "    \"\"\"\n",
    "\n",
    "    # np.c_ takes two arrays and jams them together as *c*olumns\n",
    "    # Then, .T *T*ransposes it, so that they're rows\n",
    "    raster = np.c_[has_disease, test_results].T.astype( float )\n",
    "    # I only want to display a little part of the whole raster, cause it's huge, so I slice it with :\n",
    "    raster = raster[:, :n_sample]\n",
    "    \n",
    "    # I'm assuming here that I've created an \"axes\" object that I can plot inside of\n",
    "    # This makes it so that I can re-use the same function on multiple plots in the same figure!\n",
    "    ax.imshow( raster,\n",
    "               aspect = 'auto',\n",
    "               interpolation = 'none', ) # These are just my personal preferences for image plots\n",
    "\n",
    "    ax.set_xlabel( 'Sample #' )\n",
    "    \n",
    "    ax.set_yticks( [0, 1] )\n",
    "    ax.set_yticklabels( ['Has Covid?', 'Test Result'],\n",
    "                        rotation = 45,\n",
    "                        fontsize = 16 )"
   ]
  },
  {
   "cell_type": "code",
   "execution_count": 38,
   "id": "dcab51a4-4aa1-46bf-80ff-9397559cb294",
   "metadata": {
    "slideshow": {
     "slide_type": "fragment"
    }
   },
   "outputs": [
    {
     "data": {
      "image/png": "[encoded data removed]",
      "text/plain": [
       "<Figure size 1728x144 with 1 Axes>"
      ]
     },
     "metadata": {
      "needs_background": "light"
     },
     "output_type": "display_data"
    }
   ],
   "source": [
    "# Subplots allows us to lay out some axes (`ax`) inside of a\n",
    "# figure (`fig`) that we can manipulate later\n",
    "fig, ax = plt.subplots( figsize = (24, 2) )\n",
    "# Use the plotting function we just made on these axes\n",
    "sample_plot( ax, has_covid, rtpcr_positive )\n",
    "# We're all done building the plots, we want to displaly them now\n",
    "plt.show()"
   ]
  },
  {
   "cell_type": "markdown",
   "id": "30fabda4-2cdb-460f-8589-58fb15f6de67",
   "metadata": {
    "slideshow": {
     "slide_type": "fragment"
    }
   },
   "source": [
    "By eye, it *definitely* looks like there are a lot of false positives.\n",
    "\n",
    "&nbsp;\n",
    "\n",
    "&nbsp;\n",
    "\n",
    "&nbsp;\n",
    "\n",
    "&nbsp;\n",
    "\n",
    "&nbsp;"
   ]
  },
  {
   "cell_type": "code",
   "execution_count": 19,
   "id": "2825e5a1-22ca-4d0e-a5ee-82de3808e42f",
   "metadata": {
    "slideshow": {
     "slide_type": "notes"
    }
   },
   "outputs": [],
   "source": [
    "# Again, I'm going to be doing these computations a lot, so I'll make a function I can re-use\n",
    "def predictive_value( has_disease, test_results ):\n",
    "    \"\"\"Determine positive and negative predictive values from a sample\n",
    "    \n",
    "    Arguments:\n",
    "    has_disease -- Array of bool, whether each individual has the disease\n",
    "    test_results -- Array of bool, whether each individual tests positive for the disease\n",
    "\n",
    "    Reutrns:\n",
    "    ppv -- The sample positive predictive value\n",
    "    npv -- The sample negative predictive value\n",
    "    \"\"\"\n",
    "    \n",
    "    # PPV\n",
    "    n_test_pos = np.sum( test_results )\n",
    "    # & operates on boolean arrays element by element\n",
    "    # So `a & b` is an array where each entry is `True` if the corresponding entries of both\n",
    "    # `a` and `b` are both `True`\n",
    "    # True positives are those that have the disease *and* test positive\n",
    "    n_true_pos = np.sum( has_disease & test_results )\n",
    "    ppv = n_true_pos / n_test_pos\n",
    "    \n",
    "    # NPV\n",
    "    # ~ operates on boolean arrays element by element\n",
    "    # So `~a` is an array where each entry is `True` if the corresponding entry of `a` is `False`\n",
    "    n_test_neg = np.sum( ~test_results )\n",
    "    # True negatives are those that *do not* have the disease *and* *do not* test positive\n",
    "    n_true_neg = np.sum( (~has_disease) & (~test_results) )\n",
    "    npv = n_true_neg / n_test_neg\n",
    "    \n",
    "    return ppv, npv"
   ]
  },
  {
   "cell_type": "markdown",
   "id": "4a663408",
   "metadata": {
    "slideshow": {
     "slide_type": "subslide"
    }
   },
   "source": [
    "### What are the PPV and NPV?"
   ]
  },
  {
   "cell_type": "code",
   "execution_count": 39,
   "id": "9730c7d4-b46e-4bd9-b685-dad5300a1099",
   "metadata": {
    "slideshow": {
     "slide_type": "fragment"
    }
   },
   "outputs": [
    {
     "name": "stdout",
     "output_type": "stream",
     "text": [
      "Naive PPV: 5.48%\n",
      "Naive NPV: 99.94%\n"
     ]
    }
   ],
   "source": [
    "ppv_naive, npv_naive = predictive_value( has_covid, rtpcr_positive )\n",
    "\n",
    "# We can do math in our curly braces; here I convert the ratios into\n",
    "# percents. The `:0.2f` at the end tells Python that I want 2 digits\n",
    "# after the decimal point (not at all intuitive; blame the C people\n",
    "# who wrote the original `printf` function).\n",
    "print( f'Naive PPV: {ppv_naive * 100:0.2f}%' )\n",
    "print( f'Naive NPV: {npv_naive * 100:0.2f}%' )"
   ]
  },
  {
   "cell_type": "markdown",
   "id": "490be4e7-fc68-4bb7-a98b-7a6af68be1a0",
   "metadata": {
    "slideshow": {
     "slide_type": "subslide"
    }
   },
   "source": [
    "Let's talk about the good news first: \n",
    "\n",
    "* A *negative* test is **extremely informative**: if you receive a negative test result, you can say with almost certainty that you are in the clear."
   ]
  },
  {
   "cell_type": "markdown",
   "id": "0600524e",
   "metadata": {
    "slideshow": {
     "slide_type": "fragment"
    }
   },
   "source": [
    "* *However*, in this setup, a *positive* test is **not very informative**: in fact, if you were to receive a positive RT-PCR test, *there is a ~95% chance that you still don't have Covid*. Put another way, **more than 9 out of every 10 positive tests are actually false positives**."
   ]
  },
  {
   "cell_type": "markdown",
   "id": "e437b41d",
   "metadata": {
    "slideshow": {
     "slide_type": "subslide"
    }
   },
   "source": [
    "This screening procedure is going to result in hundreds of people being sent into quarantine every day; in fact, if quarantine lasts for ten days (8 work days), then to a first approximation, about 25% of the entire workforce will be quarantining at any given moment from false positive tests alone:"
   ]
  },
  {
   "cell_type": "code",
   "execution_count": 41,
   "id": "b2e99965-17bf-402a-88e0-27a2dafe115f",
   "metadata": {
    "slideshow": {
     "slide_type": "fragment"
    }
   },
   "outputs": [
    {
     "name": "stdout",
     "output_type": "stream",
     "text": [
      "Fraction of workforce quarantined: 24.73%\n"
     ]
    }
   ],
   "source": [
    "quarantine_workdays = 8\n",
    "# False positives *do not* have Covid *and* test positive\n",
    "quarantine_false_positives_per_day = np.sum( ~has_covid & rtpcr_positive )\n",
    "quarantine_false_positives_simultaneous = quarantine_false_positives_per_day * quarantine_workdays\n",
    "quarantine_fraction = quarantine_false_positives_simultaneous / n_employees\n",
    "\n",
    "print( f'Fraction of workforce quarantined: {quarantine_fraction * 100:0.2f}%' )"
   ]
  },
  {
   "cell_type": "markdown",
   "id": "8becb8ca-05af-40d3-9beb-5344b960713f",
   "metadata": {
    "slideshow": {
     "slide_type": "subslide"
    }
   },
   "source": [
    "#### N.B.\n",
    "\n",
    "This test also has an extremely high **accuracy**, which is the probability of the test being *correct*:"
   ]
  },
  {
   "cell_type": "code",
   "execution_count": 42,
   "id": "56d0e601-4dab-4658-9f88-17647a74cef1",
   "metadata": {
    "slideshow": {
     "slide_type": "fragment"
    }
   },
   "outputs": [
    {
     "name": "stdout",
     "output_type": "stream",
     "text": [
      "Naive accuracy: 96.85%\n"
     ]
    }
   ],
   "source": [
    "# == operates element by element on arrays\n",
    "# `a == b` is an array where each element is `True` if the\n",
    "# corresponding elements of `a` and `b` are equal\n",
    "accuracy_naive = np.sum( has_covid == rtpcr_positive ) / len( has_covid )\n",
    "\n",
    "print( f'Naive accuracy: {accuracy_naive * 100:0.2f}%' )"
   ]
  },
  {
   "cell_type": "markdown",
   "id": "8d137524-e085-4b98-973b-741b7d5e774c",
   "metadata": {
    "slideshow": {
     "slide_type": "fragment"
    }
   },
   "source": [
    "But, accuracy as a \"summary statistic\" of the test is hiding the fact that we're actually doing quite a terrible job with the *positive predictive value*, the much more \"actionable\" piece of information, because **the prevalence of Covid cases is so low**.\n",
    "\n",
    "&nbsp;\n",
    "\n",
    "&nbsp;\n",
    "\n",
    "&nbsp;\n",
    "\n",
    "&nbsp;\n",
    "\n",
    "&nbsp;\n",
    "\n",
    "&nbsp;"
   ]
  },
  {
   "cell_type": "markdown",
   "id": "84e80712",
   "metadata": {
    "slideshow": {
     "slide_type": "subslide"
    }
   },
   "source": [
    "# What's going wrong?"
   ]
  },
  {
   "cell_type": "markdown",
   "id": "5c9d6ad2",
   "metadata": {
    "slideshow": {
     "slide_type": "fragment"
    }
   },
   "source": [
    "## Is this a bad test?"
   ]
  },
  {
   "cell_type": "markdown",
   "id": "a2c6795c",
   "metadata": {
    "slideshow": {
     "slide_type": "fragment"
    }
   },
   "source": [
    "## Do you still think you have Covid?"
   ]
  },
  {
   "cell_type": "markdown",
   "id": "5dacb18b-9880-45dc-930d-80717c407820",
   "metadata": {
    "slideshow": {
     "slide_type": "slide"
    }
   },
   "source": [
    "# Let's try something different"
   ]
  },
  {
   "cell_type": "markdown",
   "id": "816f51ef-c1b4-40b7-869e-e66e38a505d5",
   "metadata": {
    "slideshow": {
     "slide_type": "subslide"
    }
   },
   "source": [
    "In our simulation, the **prevalence** of Covid was thought of as **the probability that someone in our sample had Covid**. We took this to be the prevalence of Covid in San Francisco, under the assumption that we were testing people esssentially randomly, and had no criteria for how we were selecting people to test."
   ]
  },
  {
   "cell_type": "markdown",
   "id": "9af75ef6",
   "metadata": {
    "slideshow": {
     "slide_type": "subslide"
    }
   },
   "source": [
    "After briefly quarantining a substantial portion of its workforce, UCSF has decided to try a new schema. Now, **only people who have an exposure to a confirmed symptomatic case** will be tested.\n",
    "\n",
    "While before we had no clue about the people being tested, this new selection criterion means we have more **knowledge** (of the exposure). This knowledge changes our **prior belief**, before even running the test, of whether or not a person being tested has Covid: we *expect* that someone who has had an exposure is more likely to have Covid than someone chosen at random from the general population."
   ]
  },
  {
   "cell_type": "markdown",
   "id": "ac9d3422",
   "metadata": {
    "slideshow": {
     "slide_type": "subslide"
    }
   },
   "source": [
    "**All of the characteristics of the test itself are still exactly the same**: the same reagents, the same technique, everything. The only thing we'll change to simulate this new scenario is the **proportion of tested people who have Covid**. Let's say that an exposure to a symptomatic case of Covid carries an associated risk of infection of 5%:"
   ]
  },
  {
   "cell_type": "code",
   "execution_count": 43,
   "id": "bb94997d-b32f-46b9-bbc5-ce035cd9ddfa",
   "metadata": {},
   "outputs": [],
   "source": [
    "covid_belief_suspicious = 0.05"
   ]
  },
  {
   "cell_type": "markdown",
   "id": "0431d611-271e-401f-90ad-d2b546e8ab19",
   "metadata": {
    "slideshow": {
     "slide_type": "subslide"
    }
   },
   "source": [
    "## What do you think will happen to the PPV of our test in this new scheme?\n",
    "\n",
    "## How about the NPV?"
   ]
  },
  {
   "cell_type": "markdown",
   "id": "42061f51",
   "metadata": {
    "slideshow": {
     "slide_type": "subslide"
    }
   },
   "source": [
    "Let's run a simulation of a group of employees with suspected Covid exposure:"
   ]
  },
  {
   "cell_type": "code",
   "execution_count": 44,
   "id": "7c40dfb1-5ba3-4052-af13-e76f14b5d1ad",
   "metadata": {
    "slideshow": {
     "slide_type": "fragment"
    }
   },
   "outputs": [
    {
     "name": "stdout",
     "output_type": "stream",
     "text": [
      "Cases among the suspicious 🤔: 53\n",
      "Positive tests among the suspicious 🤔: 56\n"
     ]
    }
   ],
   "source": [
    "n_suspicious = 1000\n",
    "has_covid_suspicious, rtpcr_positive_suspicious = sample_results( n_suspicious,\n",
    "                                                                  covid_belief_suspicious,\n",
    "                                                                  rtpcr_sensitivity,  # Same as before!\n",
    "                                                                  rtpcr_specificity ) # Same as before!\n",
    "\n",
    "# Python is fully Unicode compatible for strings, so there's no\n",
    "# reason not to include emoji 🤪\n",
    "print( f'Cases among the suspicious 🤔: {np.sum( has_covid_suspicious )}' )\n",
    "print( f'Positive tests among the suspicious 🤔: {np.sum( rtpcr_positive_suspicious )}' )\n",
    "\n",
    "# You can't use emoji in variable names, though 😢"
   ]
  },
  {
   "cell_type": "code",
   "execution_count": 45,
   "id": "b19ce720-2b81-4059-be24-1da954577d53",
   "metadata": {
    "slideshow": {
     "slide_type": "subslide"
    }
   },
   "outputs": [
    {
     "data": {
      "image/png": "[encoded data removed]",
      "text/plain": [
       "<Figure size 1728x144 with 1 Axes>"
      ]
     },
     "metadata": {
      "needs_background": "light"
     },
     "output_type": "display_data"
    }
   ],
   "source": [
    "fig, ax = plt.subplots( figsize = (24, 2) )\n",
    "sample_plot( ax, has_covid_suspicious, rtpcr_positive_suspicious )\n",
    "plt.show()"
   ]
  },
  {
   "cell_type": "markdown",
   "id": "94666a0b",
   "metadata": {
    "slideshow": {
     "slide_type": "fragment"
    }
   },
   "source": [
    "Already this is looking much more reasonable. **What are the PPV and the NPV**?"
   ]
  },
  {
   "cell_type": "code",
   "execution_count": 46,
   "id": "a7864159-5c63-40a4-acad-4cbf7fe64d1a",
   "metadata": {
    "slideshow": {
     "slide_type": "subslide"
    }
   },
   "outputs": [
    {
     "name": "stdout",
     "output_type": "stream",
     "text": [
      "Suspicious PPV: 62.50%\n",
      "Suspicious NPV: 98.09%\n"
     ]
    }
   ],
   "source": [
    "ppv_suspicious, npv_suspicious = predictive_value( has_covid_suspicious, rtpcr_positive_suspicious )\n",
    "\n",
    "print( f'Suspicious PPV: {ppv_suspicious * 100:0.2f}%' )\n",
    "print( f'Suspicious NPV: {npv_suspicious * 100:0.2f}%' )"
   ]
  },
  {
   "cell_type": "markdown",
   "id": "44b8caed-fd5e-49fe-889c-26f0de16e006",
   "metadata": {
    "slideshow": {
     "slide_type": "subslide"
    }
   },
   "source": [
    "## Aha!\n",
    "\n",
    "The PPV has jumped dramatically, from about 5% to about 60%!\n",
    "\n",
    "In this setting—where we have some **additional knowledge** about who we're testing—the **same exact test** has become **a lot more useful**."
   ]
  },
  {
   "cell_type": "markdown",
   "id": "0be88b05",
   "metadata": {
    "slideshow": {
     "slide_type": "subslide"
    }
   },
   "source": [
    "<img src=\"figures/ppv/f11.png\"/>"
   ]
  },
  {
   "cell_type": "markdown",
   "id": "62a88cd1",
   "metadata": {
    "slideshow": {
     "slide_type": "subslide"
    }
   },
   "source": [
    "#### N.B.\n",
    "\n",
    "There is no free lunch, of course; the cost we pay is that the NPV in this scenario is now *slightly* lower!"
   ]
  },
  {
   "cell_type": "markdown",
   "id": "aa72b384",
   "metadata": {
    "slideshow": {
     "slide_type": "subslide"
    }
   },
   "source": [
    "The critical takeaway message is this:\n",
    "\n",
    "## How useful a test is depends on our prior belief about the thing we're testing for."
   ]
  },
  {
   "cell_type": "markdown",
   "id": "b549a86b",
   "metadata": {
    "slideshow": {
     "slide_type": "subslide"
    }
   },
   "source": [
    "### Let's see how this plays out as we \"sweep through\" a bunch of different possible priors."
   ]
  },
  {
   "cell_type": "code",
   "execution_count": 30,
   "id": "0a11b606-c749-44e5-b914-e001627b14c7",
   "metadata": {
    "slideshow": {
     "slide_type": "notes"
    }
   },
   "outputs": [],
   "source": [
    "# Fancy progress bar!\n",
    "from tqdm import tqdm\n",
    "\n",
    "def belief_sweep( sensitivity, specificity, beliefs,\n",
    "                  n_sims = 100,\n",
    "                  n_sample = 1000 ):\n",
    "    \"\"\"Determine PPV and NPV across a wide range of priors\n",
    "    \n",
    "    Arguments:\n",
    "    sensitivity, specificity -- The characteristics of the test\n",
    "    beliefs -- Array of prior beliefs to test\n",
    "    \n",
    "    Keyword arguments:\n",
    "    n_sims -- The number of simulations to run for each prior belief level\n",
    "    n_sample -- The number of individuals to sample in each simulation\n",
    "    \n",
    "    Reutrns:\n",
    "    ppvs_sweep, npvs_sweep -- Shape (n_beliefs, n_sims)\n",
    "        Arrays of the PPV and NPV for each simulation at each prior belief level\n",
    "    \"\"\"\n",
    "    \n",
    "    n_beliefs = len( beliefs )\n",
    "    \n",
    "    # Pre-allocate all of the results we're going to get; we'll fill this in as we go!\n",
    "    ppvs_sweep = np.zeros( (n_beliefs, n_sims) )\n",
    "    npvs_sweep = np.zeros( (n_beliefs, n_sims) )\n",
    "\n",
    "    # `tqdm` turns any iterable into a progress bar like magic!\n",
    "    # `enumerate` doesn't know how long its contents are (they can be infinite!),\n",
    "    # so we have to tell `tqdm` how long it is if we want it to show the total\n",
    "    for i_sweep, belief in tqdm( enumerate( beliefs ), total = n_beliefs ):\n",
    "        # At each level of belief, we'll run `n_sims` number of simulations, to get\n",
    "        # a solid distribution\n",
    "        for i_sim in range( n_sims ):\n",
    "            # Now, because we put all our simulations in functions, we can just call them!\n",
    "            has_disease, test_positive = sample_results( n_sample,\n",
    "                                                         belief,\n",
    "                                                         sensitivity,\n",
    "                                                         specificity )\n",
    "            ppvs_sweep[i_sweep, i_sim], npvs_sweep[i_sweep, i_sim] = predictive_value( has_disease, test_positive )\n",
    "            \n",
    "    return ppvs_sweep, npvs_sweep"
   ]
  },
  {
   "cell_type": "code",
   "execution_count": 31,
   "id": "d44d930f-7365-4a7d-a659-ed0e2b6208a8",
   "metadata": {
    "slideshow": {
     "slide_type": "notes"
    }
   },
   "outputs": [],
   "source": [
    "# A convenience function for plotting an error corridor\n",
    "def plot_band( ax, x, values,\n",
    "               axis = None,\n",
    "               mode = 'sd',\n",
    "               color = '',\n",
    "               kwargs_plot = dict(),\n",
    "               kwargs_fill = dict() ):\n",
    "    \"\"\"Plot an error corridor derived from `values`\n",
    "    \n",
    "    Arguments:\n",
    "    x -- The horizontal coordinates to plot\n",
    "    values -- The data array to derive the error corridor from\n",
    "    \n",
    "    Keyword arguments:\n",
    "    axis -- The axis along which to compute dispersion from `values`\n",
    "        (Default: None, which is the first non-singleton axis)\n",
    "    mode -- What kind of error corridor to plot. Valid choices are 'sd'\n",
    "        for standard deviation, and 'se' for standard error.\n",
    "        (Default: 'sd')\n",
    "    color -- The color shared by the trace and corridor\n",
    "        (Default: `matplotlib` next default)\n",
    "    kwargs_plot, kwargs_fill: Keyword arguments to be passed to `plot` or\n",
    "        `fill_between`, respectively (Default: empty)\n",
    "    \"\"\"\n",
    "    \n",
    "    if mode.lower() == 'sd':\n",
    "        values_middle = np.mean( values, axis = axis )\n",
    "        values_err = np.std( values, axis = axis )\n",
    "    elif mode.lower() == 'se':\n",
    "        values_middle = np.mean( values, axis = axis )\n",
    "        n = values.shape[axis]\n",
    "        values_err = (1 / np.sqrt( n )) * np.std( values, axis = axis )\n",
    "    # TODO: implement median with [0.25, 0.75] quantiles, bootstrap, multiple hypothesis correction, ...\n",
    "    else:\n",
    "        # Always good practice to raise Exceptions\n",
    "        raise ValueError( f'Unknown erorr mode: {mode}' )\n",
    "    \n",
    "    # `**kwargs_plot` tells Python to pass this dict to `plot` as keyword arguments\n",
    "    # This makes it so that I can control any behavior of `plot` (and `fill_between`, below)\n",
    "    # without having to explicitly write out every argument I want to control beforehand!\n",
    "    ax.plot( x, values_middle, f'{color}-', **kwargs_plot )\n",
    "    ax.fill_between( x,\n",
    "                     values_middle - values_err,\n",
    "                     values_middle + values_err,\n",
    "                     color = color,\n",
    "                     alpha = 0.2,\n",
    "                     **kwargs_fill )\n",
    "    \n",
    "def plot_vline( ax, x, *args, **kwargs ):\n",
    "    \"\"\"Plot a vertical line at x-coordinate `x` inside of axes `ax`\n",
    "\n",
    "    Other arguments or keyword arguments are passed directly to `plot`\n",
    "    \"\"\"\n",
    "    yl = ax.get_ylim()\n",
    "    ax.plot( [x, x], yl, *args, **kwargs )\n",
    "    ax.set_ylim( yl )\n",
    "    \n",
    "def plot_sweep( ax, beliefs, ppvs, npvs,\n",
    "                annotations = None,\n",
    "                xlabel = 'Prior belief' ):\n",
    "    \"\"\"Make a summary plot of PPV / NPV results from `belief_sweep`\n",
    "    \n",
    "    Arguments:\n",
    "    ax -- The axes object to plot inside of\n",
    "    beliefs -- The prior belief values used for the simulations\n",
    "    ppvs, npvs -- The results from `belief_sweep`\n",
    "    \n",
    "    Keyword arguments:\n",
    "    annotations -- List of tuples of form (x, spec, label)\n",
    "        Plots a vertical line with the given spec and label at each x\n",
    "        (Default: no annotations)\n",
    "    xlabel -- The x-axis label (Default: 'Prior belief')\n",
    "    \"\"\"\n",
    "    \n",
    "    # Handle default value (None)\n",
    "    if annotations is None:\n",
    "        annotations = []\n",
    "    \n",
    "    # Here I pass in the 'label' keyword argument so that `matplotlib`\n",
    "    # makes a nice legend when I call `legend` later\n",
    "    plot_band( ax, beliefs, ppvs, color = 'b',\n",
    "               axis = 1,\n",
    "               kwargs_plot = { 'label': 'PPV'} )\n",
    "    plot_band( ax, beliefs, npvs, color = 'r',\n",
    "               axis = 1,\n",
    "               kwargs_plot = { 'label': 'NPV'} )\n",
    "    \n",
    "    for x, spec, label in annotations:\n",
    "        # Plot a vertical line for each annotation\n",
    "        plot_vline( ax, x, spec, label = label )\n",
    "    \n",
    "    ax.set_xlim( np.min( beliefs ), np.max( beliefs ) )\n",
    "    \n",
    "    ax.set_xlabel( xlabel, fontsize = 16 )\n",
    "    ax.set_ylabel( 'Predictive value', fontsize = 16 )\n",
    "    ax.legend( fontsize = 16 )"
   ]
  },
  {
   "cell_type": "code",
   "execution_count": 47,
   "id": "9db138d9-b7c9-4f39-bcd8-e4cdf1607c1a",
   "metadata": {
    "slideshow": {
     "slide_type": "subslide"
    }
   },
   "outputs": [
    {
     "name": "stderr",
     "output_type": "stream",
     "text": [
      "100%|███████████████████████████████████████████████████████████████████████| 100/100 [00:02<00:00, 43.04it/s]\n"
     ]
    },
    {
     "data": {
      "image/png": "[encoded data removed]",
      "text/plain": [
       "<Figure size 1152x360 with 1 Axes>"
      ]
     },
     "metadata": {
      "needs_background": "light"
     },
     "output_type": "display_data"
    }
   ],
   "source": [
    "# Run our simulation\n",
    "# Pick beliefs linearly spaced between 0 and 0.25\n",
    "covid_beliefs_sweep = np.linspace( 0, 0.25, 100 )\n",
    "ppvs_sweep, npvs_sweep = belief_sweep( rtpcr_sensitivity,\n",
    "                                       rtpcr_specificity,\n",
    "                                       covid_beliefs_sweep )\n",
    "\n",
    "# Build our plot\n",
    "fig, ax = plt.subplots( figsize = (16, 5) )\n",
    "plot_sweep( ax, covid_beliefs_sweep, ppvs_sweep, npvs_sweep,\n",
    "            annotations = [(covid_prevalence, 'k--', 'Random testing'),\n",
    "                           (covid_belief_suspicious, 'm--', 'Testing after confirmed exposure')],\n",
    "            xlabel = 'Prior belief of Covid' )\n",
    "plt.show()"
   ]
  },
  {
   "cell_type": "markdown",
   "id": "1acf8d53-c403-44be-b26c-c3896cee10ef",
   "metadata": {
    "slideshow": {
     "slide_type": "fragment"
    }
   },
   "source": [
    "We can see from the left-hand side of this curve that even **very weak improvements in our prior belief** can lead to **vast changes in the utility of our test**!\n",
    "\n",
    "&nbsp;\n",
    "\n",
    "&nbsp;\n",
    "\n",
    "&nbsp;\n",
    "\n",
    "&nbsp;\n",
    "\n",
    "&nbsp;\n",
    "\n",
    "&nbsp;"
   ]
  },
  {
   "cell_type": "markdown",
   "id": "41c1df0f",
   "metadata": {
    "slideshow": {
     "slide_type": "subslide"
    }
   },
   "source": [
    "In these examples, we saw that the PPV of our Covid test depended strongly on the scheme we used to select which people to test, evnen while **the test itself remained entirely the same**.\n",
    "\n",
    "This means that **PPV is not just a statement about the test**."
   ]
  },
  {
   "cell_type": "markdown",
   "id": "72770075",
   "metadata": {
    "slideshow": {
     "slide_type": "fragment"
    }
   },
   "source": [
    "## PPV is a statement about how the test is used."
   ]
  },
  {
   "cell_type": "markdown",
   "id": "d17302e9",
   "metadata": {
    "slideshow": {
     "slide_type": "skip"
    }
   },
   "source": [
    "---"
   ]
  },
  {
   "cell_type": "markdown",
   "id": "95be442b",
   "metadata": {
    "slideshow": {
     "slide_type": "slide"
    }
   },
   "source": [
    "# What does a test do?"
   ]
  },
  {
   "cell_type": "markdown",
   "id": "187369fc",
   "metadata": {
    "slideshow": {
     "slide_type": "subslide"
    }
   },
   "source": [
    "Before we ran the test, we had some **prior knowledge** about whether we had Covid,\n",
    "\n",
    "$$ \\mathrm{Pr}(\\textrm{actually }+) $$"
   ]
  },
  {
   "cell_type": "markdown",
   "id": "2fbdbfd8",
   "metadata": {
    "slideshow": {
     "slide_type": "subslide"
    }
   },
   "source": [
    "**Once we get a positive test result**, we have new knowledge—the result of the test—which allows us to **update** our belief of whether we have Covid. Our knowledge about whether we have Covid *after* the update caused by the test is precisely the **PPV**:\n",
    "\n",
    "$$\\begin{eqnarray*}\n",
    "&\\mathrm{Pr}(\\textrm{actually }+) & \\\\\n",
    "& \\downarrow & \\\\\n",
    "& \\mathrm{Pr}(\\textrm{actually }+ \\mid \\textrm{test }+) &\n",
    "\\end{eqnarray*}$$\n",
    "\n",
    "This is also known as the **posterior probability** (in the sense of \"after the test\") given a positive test."
   ]
  },
  {
   "cell_type": "markdown",
   "id": "ac439f2e",
   "metadata": {
    "slideshow": {
     "slide_type": "subslide"
    }
   },
   "source": [
    "<img src=\"figures/ppv/f12.png\"/>"
   ]
  },
  {
   "cell_type": "markdown",
   "id": "07986302",
   "metadata": {
    "slideshow": {
     "slide_type": "subslide"
    }
   },
   "source": [
    "#### N.B.\n",
    "\n",
    "The amount of information provided by a test result is called the result's **Bayes factor**, $K$. While the PPV—which is the **posterior probability** of disease given a positive test—changes depending on the prior, the following **ratios** are always proportional:\n",
    "\n",
    "$$ \\frac{\\mathrm{Pr}(\\textrm{actually }+ \\mid \\textrm{test }+)}{\\mathrm{Pr}(\\textrm{actually }- \\mid \\textrm{test }+)} = K\\,\\frac{\\mathrm{Pr}(\\textrm{actually }+)}{\\mathrm{Pr}(\\textrm{actually }-)}$$\n",
    "\n",
    "So, the Bayes factor tells us how much receiving a positive test result **changes** our prior belief. Test results with larger Bayes factors **change our beliefs more**."
   ]
  },
  {
   "cell_type": "markdown",
   "id": "2552c042-8ccc-4a90-a052-a20aabe3cf22",
   "metadata": {
    "slideshow": {
     "slide_type": "skip"
    }
   },
   "source": [
    "---"
   ]
  },
  {
   "cell_type": "markdown",
   "id": "a2d38970",
   "metadata": {
    "slideshow": {
     "slide_type": "slide"
    }
   },
   "source": [
    "# Tests in science"
   ]
  },
  {
   "cell_type": "markdown",
   "id": "37711147",
   "metadata": {
    "slideshow": {
     "slide_type": "subslide"
    }
   },
   "source": [
    "For Covid testing, we obtained some bit of noisy data (a positive test result), and sought to **infer** something about what was **actually** happening (whether we truly have Covid). We made this inference quantitative using the **PPV**:\n",
    "\n",
    "$$ \\mathrm{PPV} = \\mathrm{Pr}(\\textrm{actually }+ \\mid \\textrm{test }+) $$"
   ]
  },
  {
   "cell_type": "markdown",
   "id": "224b97d1",
   "metadata": {
    "slideshow": {
     "slide_type": "subslide"
    }
   },
   "source": [
    "In science, we use **statistical tests**. Just like the Covid RT-PCR, statistical tests are **noisy** bits of data. What we would like to do is to **infer** something about what is **actually** happening in the world on the basis of these test results."
   ]
  },
  {
   "cell_type": "markdown",
   "id": "fdd4baff",
   "metadata": {
    "slideshow": {
     "slide_type": "subslide"
    }
   },
   "source": [
    "Let's say that you're analyzing some results. You plug two variables you're working on, `x` and `y`, into a magic black box like `scipy.stats.pearsonr`, and it pops out"
   ]
  },
  {
   "cell_type": "raw",
   "id": "ebf0f459",
   "metadata": {
    "slideshow": {
     "slide_type": "fragment"
    }
   },
   "source": [
    ">>> scipy.stats.pearsonr( x, y )\n",
    "(0.21365304326850618, 0.03281172835181021)"
   ]
  },
  {
   "cell_type": "markdown",
   "id": "b27d66c6",
   "metadata": {
    "slideshow": {
     "slide_type": "fragment"
    }
   },
   "source": [
    "(The first value is the correlation $r$, the second is the $p$-value.) Cool, it's significant! We got a **positive test result**."
   ]
  },
  {
   "cell_type": "markdown",
   "id": "1be4ac20",
   "metadata": {
    "slideshow": {
     "slide_type": "fragment"
    }
   },
   "source": [
    "### What do you now know about whether there is actually a relationship between `x` and `y`?"
   ]
  },
  {
   "cell_type": "markdown",
   "id": "50b7bc19",
   "metadata": {
    "slideshow": {
     "slide_type": "subslide"
    }
   },
   "source": [
    "This information, by itself, is **not a statement about whether the null hypothesis is actually true or false**, just as a positive Covid test is not, by itself, a statement about whether you actually have Covid."
   ]
  },
  {
   "cell_type": "markdown",
   "id": "39b7d9ec",
   "metadata": {
    "slideshow": {
     "slide_type": "fragment"
    }
   },
   "source": [
    "## We must infer the truth from the test"
   ]
  },
  {
   "cell_type": "markdown",
   "id": "c97d4265",
   "metadata": {
    "slideshow": {
     "slide_type": "fragment"
    }
   },
   "source": [
    "### What does this inference depend on?"
   ]
  },
  {
   "cell_type": "markdown",
   "id": "58087a9b",
   "metadata": {
    "slideshow": {
     "slide_type": "subslide"
    }
   },
   "source": [
    "Now that we have a positive test result, just as in the case of Covid tests, what we're interested in is the **posterior probability**, given that result, of whether there is a relationship between `x` and `y`. This, as we saw before, is precisely the **PPV**:\n",
    "\n",
    "$$ \\mathrm{PPV} = \\mathrm{Pr}(\\textrm{actually a relationship} \\mid \\textrm{test rejects null hyp.}) $$"
   ]
  },
  {
   "cell_type": "markdown",
   "id": "45c91e87",
   "metadata": {
    "slideshow": {
     "slide_type": "fragment"
    }
   },
   "source": [
    "But just as we saw before with Covid tests,\n",
    "\n",
    "### the PPV will depend on our prior knowledge of whether there is a real relationship between `x` and `y`."
   ]
  },
  {
   "cell_type": "markdown",
   "id": "c1dd5b37",
   "metadata": {
    "slideshow": {
     "slide_type": "subslide"
    }
   },
   "source": [
    "Suppose I got my result by going out into the world and running the `scipy.stats.pearsonr` function between every pair of two datasets I could get my hands on."
   ]
  },
  {
   "cell_type": "markdown",
   "id": "1e390347",
   "metadata": {
    "slideshow": {
     "slide_type": "fragment"
    }
   },
   "source": [
    "What is the probability that any two of those randomly chosen datasets are **actually** causally related to one another? That is, what is the **prior**,\n",
    "\n",
    "$$ \\mathrm{Pr}(\\textrm{actually a relationship}) $$"
   ]
  },
  {
   "cell_type": "markdown",
   "id": "fa94c578",
   "metadata": {
    "slideshow": {
     "slide_type": "fragment"
    }
   },
   "source": [
    "### It is astronomically small."
   ]
  },
  {
   "cell_type": "markdown",
   "id": "0a879d32",
   "metadata": {
    "slideshow": {
     "slide_type": "subslide"
    }
   },
   "source": [
    "In this experimental setup of **randomly testing** correlations, what is the **PPV**?"
   ]
  },
  {
   "cell_type": "markdown",
   "id": "9a24b3a7",
   "metadata": {
    "slideshow": {
     "slide_type": "fragment"
    }
   },
   "source": [
    "### It is exceedingly low."
   ]
  },
  {
   "cell_type": "markdown",
   "id": "f9ef81a5",
   "metadata": {
    "slideshow": {
     "slide_type": "fragment"
    }
   },
   "source": [
    "So, how do I interpret the result I just saw, that `scipy.stats.pearsonr` rejected the null hypothesis of no relationship between `x` and `y`?"
   ]
  },
  {
   "cell_type": "markdown",
   "id": "66b5e428",
   "metadata": {
    "slideshow": {
     "slide_type": "fragment"
    }
   },
   "source": [
    "### It is probably a false positive."
   ]
  },
  {
   "cell_type": "markdown",
   "id": "4d1dea53",
   "metadata": {
    "slideshow": {
     "slide_type": "subslide"
    }
   },
   "source": [
    "# Does that mean that `scipy.stats.pearsonr` is a bad test?"
   ]
  },
  {
   "cell_type": "markdown",
   "id": "59d6f244",
   "metadata": {
    "slideshow": {
     "slide_type": "fragment"
    }
   },
   "source": [
    "# Is Covid RT-PCR a bad test?"
   ]
  },
  {
   "cell_type": "markdown",
   "id": "a71c129a",
   "metadata": {
    "slideshow": {
     "slide_type": "subslide"
    }
   },
   "source": [
    "## No.\n",
    "\n",
    "**PPV** isn't just about the test; PPV depends on **how the test is used**."
   ]
  },
  {
   "cell_type": "markdown",
   "id": "95076c3d",
   "metadata": {
    "slideshow": {
     "slide_type": "subslide"
    }
   },
   "source": [
    "### Recall\n",
    "\n",
    "When looking at Covid testing, **increasing our prior belief of Covid infection to just 5%** raised the PPV from 5% to 60%, **for the exact same test**."
   ]
  },
  {
   "cell_type": "code",
   "execution_count": 33,
   "id": "94d0d30f",
   "metadata": {
    "slideshow": {
     "slide_type": "fragment"
    }
   },
   "outputs": [
    {
     "data": {
      "image/png": "[encoded data removed]",
      "text/plain": [
       "<Figure size 1152x360 with 1 Axes>"
      ]
     },
     "metadata": {
      "needs_background": "light"
     },
     "output_type": "display_data"
    }
   ],
   "source": [
    "fig, ax = plt.subplots( figsize = (16, 5) )\n",
    "plot_sweep( ax, covid_beliefs_sweep, ppvs_sweep, npvs_sweep,\n",
    "            annotations = [(covid_prevalence, 'k--', 'Random testing'),\n",
    "                           (covid_belief_suspicious, 'm--', 'Testing after confirmed exposure')],\n",
    "            xlabel = 'Prior belief of Covid' )\n",
    "plt.show()"
   ]
  },
  {
   "cell_type": "markdown",
   "id": "2553f130",
   "metadata": {},
   "source": [
    "&nbsp;\n",
    "\n",
    "&nbsp;\n",
    "\n",
    "&nbsp;\n",
    "\n",
    "&nbsp;\n",
    "\n",
    "&nbsp;\n",
    "\n",
    "&nbsp;"
   ]
  },
  {
   "cell_type": "markdown",
   "id": "b5f9eb32",
   "metadata": {
    "slideshow": {
     "slide_type": "subslide"
    }
   },
   "source": [
    "To make the test's results more meaningful, we used **knowledge** of prior exposure to Covid to **choose who to test**."
   ]
  },
  {
   "cell_type": "markdown",
   "id": "b326df06",
   "metadata": {
    "slideshow": {
     "slide_type": "fragment"
    }
   },
   "source": [
    "### Even very weak information can dramatically improve the utility of a test!"
   ]
  },
  {
   "cell_type": "markdown",
   "id": "dd16502f",
   "metadata": {
    "slideshow": {
     "slide_type": "subslide"
    }
   },
   "source": [
    "So, how do you **improve the positive predictive value** of testing for significant correlations?"
   ]
  },
  {
   "cell_type": "markdown",
   "id": "41c356b4",
   "metadata": {
    "slideshow": {
     "slide_type": "fragment"
    }
   },
   "source": [
    "### Choose the right questions to ask."
   ]
  },
  {
   "cell_type": "markdown",
   "id": "e7e738ce",
   "metadata": {
    "slideshow": {
     "slide_type": "skip"
    }
   },
   "source": [
    "---"
   ]
  },
  {
   "cell_type": "markdown",
   "id": "fccaf9bb",
   "metadata": {
    "slideshow": {
     "slide_type": "slide"
    }
   },
   "source": [
    "# A clairvoyant mouse?"
   ]
  },
  {
   "cell_type": "markdown",
   "id": "6f542b0a",
   "metadata": {
    "slideshow": {
     "slide_type": "fragment"
    }
   },
   "source": [
    "You look at your data, and you see that you **reject the null hypothesis** that *manipulated mice do not predict the future* with a $p$-value of 0.014."
   ]
  },
  {
   "cell_type": "markdown",
   "id": "7c733455",
   "metadata": {
    "slideshow": {
     "slide_type": "fragment"
    }
   },
   "source": [
    "### What do you now know about whether the mouse is actually clairvoyant?"
   ]
  },
  {
   "cell_type": "markdown",
   "id": "75d5e968",
   "metadata": {
    "slideshow": {
     "slide_type": "fragment"
    }
   },
   "source": [
    "### Why do you think this?"
   ]
  },
  {
   "cell_type": "markdown",
   "id": "d8e4d21d",
   "metadata": {
    "slideshow": {
     "slide_type": "fragment"
    }
   },
   "source": [
    "## What do you do with this information?"
   ]
  },
  {
   "cell_type": "markdown",
   "id": "d984927a",
   "metadata": {
    "slideshow": {
     "slide_type": "skip"
    }
   },
   "source": [
    "---"
   ]
  },
  {
   "cell_type": "markdown",
   "id": "6e30b07a",
   "metadata": {
    "slideshow": {
     "slide_type": "slide"
    }
   },
   "source": [
    "# Summary"
   ]
  },
  {
   "cell_type": "markdown",
   "id": "d974aee1",
   "metadata": {
    "slideshow": {
     "slide_type": "subslide"
    }
   },
   "source": [
    "## Tests do not tell us the truth.\n",
    "\n",
    "### We try to infer the truth from tests."
   ]
  },
  {
   "cell_type": "markdown",
   "id": "8b069505",
   "metadata": {
    "slideshow": {
     "slide_type": "subslide"
    }
   },
   "source": [
    "## Tests update our beliefs about the world.\n",
    "\n",
    "### We must live in one of the universes where we saw the result we saw."
   ]
  },
  {
   "cell_type": "markdown",
   "id": "e66e9929",
   "metadata": {
    "slideshow": {
     "slide_type": "subslide"
    }
   },
   "source": [
    "## The positive predictive value of a test depends on how the test is used.\n",
    "\n",
    "### In particular, it depends on the prior belief of what we are testing for."
   ]
  },
  {
   "cell_type": "markdown",
   "id": "8e66ddf9",
   "metadata": {
    "slideshow": {
     "slide_type": "subslide"
    }
   },
   "source": [
    "## Statistical testing is not just a matter of selecting the \"correct\" test for a given question."
   ]
  },
  {
   "cell_type": "markdown",
   "id": "4e4a695f",
   "metadata": {
    "slideshow": {
     "slide_type": "fragment"
    }
   },
   "source": [
    "Being judicious about selecting the correct **questions** to apply the test *to* is a more powerful way to"
   ]
  },
  {
   "cell_type": "markdown",
   "id": "284c1c3c",
   "metadata": {
    "slideshow": {
     "slide_type": "fragment"
    }
   },
   "source": [
    "* strengthen the inferences gained through statistics"
   ]
  },
  {
   "cell_type": "markdown",
   "id": "f6a4bed9",
   "metadata": {
    "slideshow": {
     "slide_type": "fragment"
    }
   },
   "source": [
    "* improve the reproducibility of science"
   ]
  },
  {
   "cell_type": "markdown",
   "id": "74686d9b",
   "metadata": {
    "slideshow": {
     "slide_type": "fragment"
    }
   },
   "source": [
    "* more responsibly use resources, like experimental animals, that we are ethically obligated to minimize"
   ]
  },
  {
   "cell_type": "markdown",
   "id": "89cd92f1-ec7a-4153-99ae-72b148b11240",
   "metadata": {
    "slideshow": {
     "slide_type": "notes"
    }
   },
   "source": [
    "---"
   ]
  },
  {
   "cell_type": "markdown",
   "id": "0d9322b5",
   "metadata": {
    "slideshow": {
     "slide_type": "slide"
    }
   },
   "source": [
    "# Follow-up questions"
   ]
  },
  {
   "cell_type": "markdown",
   "id": "b803239e",
   "metadata": {
    "slideshow": {
     "slide_type": "subslide"
    }
   },
   "source": [
    "## Decision theory\n",
    "\n",
    "#### What is a \"good\" positive or negative predictive value, quantitatively?\n",
    "\n",
    "#### What do we do once we get a test result?\n",
    "\n",
    "#### Are false positives and false negatives equally bad? Since there's a tradeoff between PPV and NPV, which should we prioritize making as large as possible?"
   ]
  },
  {
   "cell_type": "markdown",
   "id": "b33a927e",
   "metadata": {
    "slideshow": {
     "slide_type": "subslide"
    }
   },
   "source": [
    "#### How do we know whether our belief about the prevalence of Covid is correct?\n",
    "\n",
    "#### How do we know how accurate our prior belief about a statement in science is?"
   ]
  },
  {
   "cell_type": "markdown",
   "id": "757208f4",
   "metadata": {
    "slideshow": {
     "slide_type": "subslide"
    }
   },
   "source": [
    "## How do we choose the next test to run?"
   ]
  },
  {
   "cell_type": "markdown",
   "id": "206775d8",
   "metadata": {
    "slideshow": {
     "slide_type": "subslide"
    }
   },
   "source": [
    "This is a **big** question, so let's think about it in the context of a few specific examples."
   ]
  },
  {
   "cell_type": "markdown",
   "id": "99aa4a72",
   "metadata": {
    "slideshow": {
     "slide_type": "subslide"
    }
   },
   "source": [
    "## Accumulating evidence\n",
    "\n",
    "Let's say we run a second experiment with a second test. Now I can **update** my knowledge **again**:\n",
    " \n",
    "$$\n",
    "\\begin{eqnarray*}\n",
    "    & \\mathrm{Pr}(\\textrm{statement}) & \\\\\n",
    "    & \\downarrow & \\\\\n",
    "    & \\mathrm{Pr}(\\textrm{statement} \\mid \\textrm{test 1 }+) & \\\\\n",
    "    & \\downarrow & \\\\\n",
    "    & \\mathrm{Pr}(\\textrm{statement} \\mid \\textrm{test 1 }+,\\textrm{test 2 }+) & \\\\\n",
    "    & \\downarrow & \\\\\n",
    "    & \\cdots &\n",
    "\\end{eqnarray*}\n",
    "$$\n",
    "\n",
    "And so on, for test after test."
   ]
  },
  {
   "cell_type": "markdown",
   "id": "b4d7dbaf",
   "metadata": {
    "slideshow": {
     "slide_type": "subslide"
    }
   },
   "source": [
    "<img src=\"figures/ppv/f2.png\">"
   ]
  },
  {
   "cell_type": "markdown",
   "id": "0eb7d9f1",
   "metadata": {
    "slideshow": {
     "slide_type": "subslide"
    }
   },
   "source": [
    "#### How deep does this rabbit hole go?\n",
    "#### What does this process converge to? Does it converge at all?\n",
    "#### What does this convergence depend on?"
   ]
  },
  {
   "cell_type": "markdown",
   "id": "1d50e15c",
   "metadata": {
    "slideshow": {
     "slide_type": "subslide"
    }
   },
   "source": [
    "Let's say we **update** our belief with successive tests, as above, but at each step, we choose the next test such that it will **maximally increase our updated probability**, $\\mathrm{Pr}(\\textrm{statement} \\mid \\textrm{tests})$.\n",
    "\n",
    "That is, we choose the experiment that we think will **give us the most evidence supporting our model**.\n",
    "\n",
    "### What does this process converge to?"
   ]
  },
  {
   "cell_type": "markdown",
   "id": "c5b5eee2",
   "metadata": {
    "slideshow": {
     "slide_type": "subslide"
    }
   },
   "source": [
    "Let's say we **update** our belief with successive tests, as above, but at each step, we choose the next test **completely at random**.\n",
    "\n",
    "### What does this process converge to?"
   ]
  },
  {
   "cell_type": "markdown",
   "id": "43124b9c",
   "metadata": {
    "slideshow": {
     "slide_type": "subslide"
    }
   },
   "source": [
    "Let's say we **update** our belief with successive tests, but we are **really wrong** about our initial belief.\n",
    "\n",
    "#### What happens to the limit?\n",
    "\n",
    "#### Will our belief always end up in the same place at the end of the process, regardless of what we initially think?\n",
    "\n",
    "#### What is the best initial belief to have?"
   ]
  },
  {
   "cell_type": "markdown",
   "id": "d998215e",
   "metadata": {
    "slideshow": {
     "slide_type": "subslide"
    }
   },
   "source": [
    "## Comparing models\n",
    "\n",
    "Let's say we **update** our belief with successive tests, but this time, we look at **multiple** candidate models; i.e., we obtain\n",
    "\n",
    "$$\n",
    "\\begin{eqnarray*}\n",
    "    &\\mathrm{Pr}(\\textrm{model 1} \\mid \\textrm{test 1},\\cdots,\\textrm{test }n) \\\\\n",
    "    &\\mathrm{Pr}(\\textrm{model 2} \\mid \\textrm{test 1},\\cdots,\\textrm{test }n) \\\\\n",
    "    &\\cdots \\\\\n",
    "    &\\mathrm{Pr}(\\textrm{model }k \\mid \\textrm{test 1},\\cdots,\\textrm{test }n)\n",
    "\\end{eqnarray*}\n",
    "$$\n",
    "\n",
    "after a sequence of $n$ tests."
   ]
  },
  {
   "cell_type": "markdown",
   "id": "fd5f12c0",
   "metadata": {
    "slideshow": {
     "slide_type": "subslide"
    }
   },
   "source": [
    "<img src=\"figures/ppv/f3.png\"/>"
   ]
  },
  {
   "cell_type": "markdown",
   "id": "46fce61b",
   "metadata": {
    "slideshow": {
     "slide_type": "subslide"
    }
   },
   "source": [
    "#### Does the presence of multiple candidate models change the way we should choose the next test?"
   ]
  },
  {
   "cell_type": "markdown",
   "id": "75d83291",
   "metadata": {
    "slideshow": {
     "slide_type": "subslide"
    }
   },
   "source": [
    "In the above scheme with multiple candidate models, let's say that the **truth** is **not** among the models that you considered.\n",
    "\n",
    "#### What does this process converge to?\n",
    "\n",
    "#### How do you interpret the result?\n",
    "\n",
    "#### How do you know whether you included the truth as a candidate model?"
   ]
  },
  {
   "cell_type": "markdown",
   "id": "df2f1e3c",
   "metadata": {
    "slideshow": {
     "slide_type": "subslide"
    }
   },
   "source": [
    "## History dependence"
   ]
  },
  {
   "cell_type": "markdown",
   "id": "4af6faf6",
   "metadata": {
    "slideshow": {
     "slide_type": "subslide"
    }
   },
   "source": [
    "The process of updating our beliefs about our model is kind of like an **optimization problem**.\n",
    "\n",
    "Imagine that there is some \"landscape\" painted across the space of all models we're considering, with the \"height\" at each point (each model) corresponding to the \"badness\" of that model.\n",
    "\n",
    "For example, models are worse (higher up) if they have a bigger **prediction error**.\n",
    "\n",
    "Our goal is to incrementally update what we *think* the best model is, in order to someday find the lowest point in the entire landscape—the **actual best** model—which should be the **truth**."
   ]
  },
  {
   "cell_type": "markdown",
   "id": "b0702ae0",
   "metadata": {
    "slideshow": {
     "slide_type": "subslide"
    }
   },
   "source": [
    "<img src=\"figures/ppv/f4.png\" />"
   ]
  },
  {
   "cell_type": "markdown",
   "id": "fe44ef98",
   "metadata": {
    "slideshow": {
     "slide_type": "subslide"
    }
   },
   "source": [
    "After each experiment we run, we collect new data.\n",
    "\n",
    "This new data changes how we measure the badness or goodness of a model's fit—after all, the model should fit the new data, too!\n",
    "\n",
    "This **alters the landscape** of our optimization problem."
   ]
  },
  {
   "cell_type": "markdown",
   "id": "59d5232c",
   "metadata": {
    "slideshow": {
     "slide_type": "subslide"
    }
   },
   "source": [
    "<img src=\"figures/ppv/f5.png\" />"
   ]
  },
  {
   "cell_type": "markdown",
   "id": "c5d9f542",
   "metadata": {
    "slideshow": {
     "slide_type": "subslide"
    }
   },
   "source": [
    "#### What happens if we start off very wrong about our prediction of what model is best?\n",
    "\n",
    "#### Does our optimization process converge to the truth?\n",
    "\n",
    "#### How can we ever \"recover\"?"
   ]
  },
  {
   "cell_type": "markdown",
   "id": "c171e954",
   "metadata": {
    "slideshow": {
     "slide_type": "subslide"
    }
   },
   "source": [
    "#### Is this new minimum *actually* the truth? That is, was our notion of truth—our \"landscape\"—wrong to begin with?\n",
    "\n",
    "#### Was the evidence that \"eroded\" the landscape actually *helpful*? Or was this erosion a result of our bias from an incorrect prediction?"
   ]
  },
  {
   "cell_type": "markdown",
   "id": "7609ace0",
   "metadata": {
    "slideshow": {
     "slide_type": "subslide"
    }
   },
   "source": [
    "## How does the optimum we converge to depend on how we choose the next test to run?"
   ]
  },
  {
   "cell_type": "markdown",
   "id": "cce3d925-ed28-4da3-8c6c-895ae736248f",
   "metadata": {
    "slideshow": {
     "slide_type": "subslide"
    }
   },
   "source": [
    "#### If we had started off the entire process with a vastly different initial prediction, would *yet another* minimum have emerged? Is *that* the truth?\n",
    "\n",
    "#### Is there a criterion for optimality that is independent of our starting position?\n",
    "\n",
    "#### Can we design a scheme for conducting tests that makes us more likely to converge to that \"optimum\" model, regardless of our initial beliefs?"
   ]
  },
  {
   "cell_type": "markdown",
   "id": "31bf799c",
   "metadata": {
    "slideshow": {
     "slide_type": "subslide"
    }
   },
   "source": [
    "#### Is any of this even a problem?\n",
    "\n",
    "#### Should we try to design scientific inquiry so that the effect of this history dependence, or \"erosion\" of the landscape, is minimized? Or is this an important feature of how science behaves?\n",
    "\n",
    "#### Is the model we converge to through this process a statement about the world we live in, or just a statement about the process *itself*?"
   ]
  },
  {
   "cell_type": "markdown",
   "id": "5c60a59c",
   "metadata": {
    "slideshow": {
     "slide_type": "subslide"
    }
   },
   "source": [
    "## What would scientific \"truth\" look like today if we had had different structures in place for how we conduct science all along?\n",
    "\n",
    "## What amazing ideas have we missed out on?"
   ]
  }
 ],
 "metadata": {
  "celltoolbar": "Slideshow",
  "kernelspec": {
   "display_name": "Python 3 (ipykernel)",
   "language": "python",
   "name": "python3"
  },
  "language_info": {
   "codemirror_mode": {
    "name": "ipython",
    "version": 3
   },
   "file_extension": ".py",
   "mimetype": "text/x-python",
   "name": "python",
   "nbconvert_exporter": "python",
   "pygments_lexer": "ipython3",
   "version": "3.10.4"
  }
 },
 "nbformat": 4,
 "nbformat_minor": 5
}
