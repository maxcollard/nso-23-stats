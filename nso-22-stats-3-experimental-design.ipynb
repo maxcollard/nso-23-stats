{
 "cells": [
  {
   "cell_type": "markdown",
   "id": "921f6374",
   "metadata": {
    "slideshow": {
     "slide_type": "slide"
    }
   },
   "source": [
    "# Specifying an experiment\n",
    "#### Max Collard\n",
    "#### UCSF Neuroscience Orientation 2022"
   ]
  },
  {
   "cell_type": "markdown",
   "id": "14f5abb0",
   "metadata": {
    "slideshow": {
     "slide_type": "notes"
    }
   },
   "source": [
    "---"
   ]
  },
  {
   "cell_type": "markdown",
   "id": "41d89bfd",
   "metadata": {
    "slideshow": {
     "slide_type": "slide"
    }
   },
   "source": [
    "# The experiment cycle"
   ]
  },
  {
   "cell_type": "markdown",
   "id": "1d3aba42",
   "metadata": {
    "slideshow": {
     "slide_type": "subslide"
    }
   },
   "source": [
    "<img src=\"figures/experimental-design/f1.png\"/>"
   ]
  },
  {
   "cell_type": "markdown",
   "id": "a8831aad",
   "metadata": {
    "slideshow": {
     "slide_type": "subslide"
    }
   },
   "source": [
    "## Overall goals"
   ]
  },
  {
   "cell_type": "markdown",
   "id": "380adaf5",
   "metadata": {},
   "source": [
    "* Start with **what we currently know** about the world."
   ]
  },
  {
   "cell_type": "markdown",
   "id": "5b649ce2",
   "metadata": {
    "slideshow": {
     "slide_type": "fragment"
    }
   },
   "source": [
    "* **Observe new data**."
   ]
  },
  {
   "cell_type": "markdown",
   "id": "2d99c60d",
   "metadata": {
    "slideshow": {
     "slide_type": "fragment"
    }
   },
   "source": [
    "* Use this data to **make inferences** that **update** how we view the world."
   ]
  },
  {
   "cell_type": "markdown",
   "id": "97461b35",
   "metadata": {
    "slideshow": {
     "slide_type": "notes"
    }
   },
   "source": [
    "---"
   ]
  },
  {
   "cell_type": "markdown",
   "id": "ae9dcac2",
   "metadata": {
    "slideshow": {
     "slide_type": "slide"
    }
   },
   "source": [
    "# Components of an experimental design"
   ]
  },
  {
   "cell_type": "markdown",
   "id": "6fd32e57",
   "metadata": {
    "slideshow": {
     "slide_type": "subslide"
    }
   },
   "source": [
    "## Background\n",
    "\n",
    "How do we currently think the world works?\n",
    "\n",
    "What part of our model is **relatively clear**?"
   ]
  },
  {
   "cell_type": "markdown",
   "id": "400a0e85",
   "metadata": {
    "slideshow": {
     "slide_type": "subslide"
    }
   },
   "source": [
    "## Background, *Example*"
   ]
  },
  {
   "cell_type": "markdown",
   "id": "3264f2fd",
   "metadata": {
    "slideshow": {
     "slide_type": "fragment"
    }
   },
   "source": [
    "* Discrete packets of information (*memes*) behave in many respects like an infectious agent.\n",
    "* Vaccines provide a powerful tool for combating the spread of many infectious agents.\n",
    "* Information presented to individuals biases the interpretation of information received later."
   ]
  },
  {
   "cell_type": "markdown",
   "id": "485987e7",
   "metadata": {
    "slideshow": {
     "slide_type": "subslide"
    }
   },
   "source": [
    "## Question\n",
    "\n",
    "What aspect of our model is unclear?"
   ]
  },
  {
   "cell_type": "markdown",
   "id": "88126496",
   "metadata": {
    "slideshow": {
     "slide_type": "fragment"
    }
   },
   "source": [
    "Or: In what way do multiple plausible (i.e., *sufficiently high prior probability*) models make **different predictions**?"
   ]
  },
  {
   "cell_type": "markdown",
   "id": "226294c9",
   "metadata": {
    "slideshow": {
     "slide_type": "subslide"
    }
   },
   "source": [
    "## Question, *Example*"
   ]
  },
  {
   "cell_type": "markdown",
   "id": "315377ab",
   "metadata": {
    "slideshow": {
     "slide_type": "fragment"
    }
   },
   "source": [
    "Does providing trusted information prior to exposure to misinformation reduce the spread of misinformation?"
   ]
  },
  {
   "cell_type": "markdown",
   "id": "9abd99e6",
   "metadata": {
    "slideshow": {
     "slide_type": "subslide"
    }
   },
   "source": [
    "## Hypothesis\n",
    "\n",
    "1. What are the models we want to differentiate?"
   ]
  },
  {
   "cell_type": "markdown",
   "id": "de79b8fc",
   "metadata": {
    "slideshow": {
     "slide_type": "fragment"
    }
   },
   "source": [
    "> As a special case, often we want to differentiate two models, **null** and **alternative**. In the null model, there is no difference between two groups in the population we're studying. In the alternative model, there is some difference between the two groups."
   ]
  },
  {
   "cell_type": "markdown",
   "id": "63792f75",
   "metadata": {
    "slideshow": {
     "slide_type": "subslide"
    }
   },
   "source": [
    "## Hypothesis\n",
    "\n",
    "2. What is our **prior belief** about the probabilities of these models?"
   ]
  },
  {
   "cell_type": "markdown",
   "id": "fd789c69",
   "metadata": {
    "slideshow": {
     "slide_type": "fragment"
    }
   },
   "source": [
    "> As a special case, we might specify **the most likely model**."
   ]
  },
  {
   "cell_type": "markdown",
   "id": "d9b4d69d",
   "metadata": {
    "slideshow": {
     "slide_type": "subslide"
    }
   },
   "source": [
    "## Hypothesis, *Example*"
   ]
  },
  {
   "cell_type": "markdown",
   "id": "047c7254",
   "metadata": {
    "slideshow": {
     "slide_type": "fragment"
    }
   },
   "source": [
    "### Model 1 (Null model)\n",
    "Prior exposure to trusted informatioin **has no effect** on subsequent sharing of misinformation.\n",
    "\n",
    "### Model 2 (Alternate model)\n",
    "Prior exposure to trusted information **has an impact** on subsequent sharing of misinformation."
   ]
  },
  {
   "cell_type": "markdown",
   "id": "53572918",
   "metadata": {
    "slideshow": {
     "slide_type": "fragment"
    }
   },
   "source": [
    "We believe *a priori* that the **alternate model** is more likely."
   ]
  },
  {
   "cell_type": "markdown",
   "id": "2d8085a1",
   "metadata": {
    "slideshow": {
     "slide_type": "slide"
    }
   },
   "source": [
    "## Background / Question / Hypothesis\n",
    "\n",
    "Here we specify our **prior belief**:\n",
    "\n",
    "$$ \\begin{eqnarray*}\n",
    "&\\mathrm{Pr}(\\textrm{model 1})\\\\\n",
    "&\\mathrm{Pr}(\\textrm{model 2})\\\\\n",
    "&\\mathrm{Pr}(\\textrm{model 3})\\\\\n",
    "&\\cdots\n",
    "\\end{eqnarray*}$$"
   ]
  },
  {
   "cell_type": "markdown",
   "id": "2520f2a1",
   "metadata": {
    "slideshow": {
     "slide_type": "notes"
    }
   },
   "source": [
    "---"
   ]
  },
  {
   "cell_type": "markdown",
   "id": "fbd300a1",
   "metadata": {
    "slideshow": {
     "slide_type": "slide"
    }
   },
   "source": [
    "## Experimental approach\n",
    "\n",
    "How can I construct an apparatus where my models make **different predictions**?"
   ]
  },
  {
   "cell_type": "markdown",
   "id": "34e2e76d",
   "metadata": {
    "slideshow": {
     "slide_type": "fragment"
    }
   },
   "source": [
    "> If our models do not make different predictions, then our experiment gives us **no new information** about the likelihood of the models *a posteriori* (after we get our test results)!"
   ]
  },
  {
   "cell_type": "markdown",
   "id": "fc5d25be",
   "metadata": {
    "slideshow": {
     "slide_type": "subslide"
    }
   },
   "source": [
    "## Experimental approach, *Example*"
   ]
  },
  {
   "cell_type": "markdown",
   "id": "181b62f4",
   "metadata": {
    "slideshow": {
     "slide_type": "fragment"
    }
   },
   "source": [
    "* Recruit $N$ Facebook users in the United States (\"participants\")."
   ]
  },
  {
   "cell_type": "markdown",
   "id": "ada1e023",
   "metadata": {
    "slideshow": {
     "slide_type": "fragment"
    }
   },
   "source": [
    "* Generate fake health-related content claiming avocado oil cures irritable bowel syndrome."
   ]
  },
  {
   "cell_type": "markdown",
   "id": "27e973b9",
   "metadata": {
    "slideshow": {
     "slide_type": "fragment"
    }
   },
   "source": [
    "* Expose $N/2$ study participants chosen at random to content showing evidence that avocado oil **does not** cure IBS. (Time $t_\\textrm{vax}$)"
   ]
  },
  {
   "cell_type": "markdown",
   "id": "6ef254fe",
   "metadata": {
    "slideshow": {
     "slide_type": "subslide"
    }
   },
   "source": [
    "* At $t_\\textrm{vax} + 2$ days ($t_\\textrm{exposure}$), expose all participants to the fake content."
   ]
  },
  {
   "cell_type": "markdown",
   "id": "0bca8276",
   "metadata": {
    "slideshow": {
     "slide_type": "fragment"
    }
   },
   "source": [
    "* Measure the number of times that the fake content is shared by participants from $t_\\textrm{exposure}$ to $t_\\textrm{exposure} + 7$ days ($t_\\textrm{endnpoint}$)."
   ]
  },
  {
   "cell_type": "markdown",
   "id": "79f40dfa",
   "metadata": {
    "slideshow": {
     "slide_type": "fragment"
    }
   },
   "source": [
    "* Compare the number of shares per person in the group that was pre-treated with contrary information versus the group that was not pre-treated."
   ]
  },
  {
   "cell_type": "markdown",
   "id": "1c0d47ba",
   "metadata": {
    "slideshow": {
     "slide_type": "slide"
    }
   },
   "source": [
    "## Experimental approach\n",
    "\n",
    "Here we specify **how our data will be generated** (i.e., how we will conduct our experiment).\n",
    "\n",
    "This in turn determines the **probability of observing our daata**:\n",
    "\n",
    "$$\\begin{eqnarray*}\n",
    "& \\mathrm{Pr}(\\textrm{pattern of results 1}) \\\\\n",
    "& \\mathrm{Pr}(\\textrm{pattern of results 2}) \\\\\n",
    "& \\mathrm{Pr}(\\textrm{pattern of results 3}) \\\\\n",
    "& \\cdots\n",
    "\\end{eqnarray*}$$"
   ]
  },
  {
   "cell_type": "markdown",
   "id": "772825d6",
   "metadata": {
    "slideshow": {
     "slide_type": "slide"
    }
   },
   "source": [
    "## Expected results\n",
    "\n",
    "What are the results that you expect to find **assuming your hypothesis**?"
   ]
  },
  {
   "cell_type": "markdown",
   "id": "83e67bb9",
   "metadata": {
    "slideshow": {
     "slide_type": "subslide"
    }
   },
   "source": [
    "More generally, what we're trying to get at is\n",
    "\n",
    "$$\\begin{eqnarray*}\n",
    "& \\mathrm{Pr}(\\textrm{pattern of results 1} \\mid \\textrm{hypothesized model}) \\\\\n",
    "& \\mathrm{Pr}(\\textrm{pattern of results 2} \\mid \\textrm{hypothesized model}) \\\\\n",
    "& \\mathrm{Pr}(\\textrm{pattern of results 3} \\mid \\textrm{hypothesized model}) \\\\\n",
    "& \\cdots\n",
    "\\end{eqnarray*}$$\n",
    "\n",
    "The **distribution** of how our results should look under our hypothesized model.\n",
    "\n",
    "The **expected results** are those results that **make this the largest**—that is, the **most likely results** under the hypothesized model."
   ]
  },
  {
   "cell_type": "markdown",
   "id": "0caf8147",
   "metadata": {
    "slideshow": {
     "slide_type": "subslide"
    }
   },
   "source": [
    "## Expected results, *Example*"
   ]
  },
  {
   "cell_type": "markdown",
   "id": "c7cfb17e",
   "metadata": {
    "slideshow": {
     "slide_type": "fragment"
    }
   },
   "source": [
    "We predict that participants in the pre-treated group will have **fewer shares per person** than participants in the group that did not receive the pre-treatment."
   ]
  },
  {
   "cell_type": "markdown",
   "id": "16fca7b8",
   "metadata": {
    "slideshow": {
     "slide_type": "subslide"
    }
   },
   "source": [
    "## Interpretation of expected results\n",
    "\n",
    "What would getting these results tell us about our model?"
   ]
  },
  {
   "cell_type": "markdown",
   "id": "3d976edb",
   "metadata": {
    "slideshow": {
     "slide_type": "subslide"
    }
   },
   "source": [
    "Or, how do we **update** our beliefs when we get the results we expect?\n",
    "\n",
    "That is, what are the updated, **posterior probabilities**,\n",
    "\n",
    "$$ \\begin{eqnarray*}\n",
    "\\mathrm{Pr}(\\textrm{model 1}) & \\rightarrow &\\mathrm{Pr}(\\textrm{model 1} \\mid \\textrm{expected test results})\\\\\n",
    "\\mathrm{Pr}(\\textrm{model 2}) & \\rightarrow &\\mathrm{Pr}(\\textrm{model 2} \\mid \\textrm{expected test results})\\\\\n",
    "\\mathrm{Pr}(\\textrm{model 3}) & \\rightarrow &\\mathrm{Pr}(\\textrm{model 3} \\mid \\textrm{expected test results})\\\\\n",
    "&\\cdots\n",
    "\\end{eqnarray*}$$\n",
    "\n",
    "(The model with the highest value is the **most likely model**, **given** we see what we expect to see.)"
   ]
  },
  {
   "cell_type": "markdown",
   "id": "ec330f18",
   "metadata": {
    "slideshow": {
     "slide_type": "subslide"
    }
   },
   "source": [
    "### Example\n",
    "\n",
    "The **positive predictive value** of the proposed experiment is\n",
    "\n",
    "$$ \\mathrm{Pr}(\\textrm{hypothesized model} \\mid \\textrm{expected test results}) $$"
   ]
  },
  {
   "cell_type": "markdown",
   "id": "195f9aca",
   "metadata": {
    "slideshow": {
     "slide_type": "fragment"
    }
   },
   "source": [
    "**Given** that we see the data that we anticipate seeing in support of our hypothesis, how likely would our hypothesized model be?\n",
    "\n",
    "Or, how much support does seeing these results lend to our model?"
   ]
  },
  {
   "cell_type": "markdown",
   "id": "a849bd4e",
   "metadata": {
    "slideshow": {
     "slide_type": "subslide"
    }
   },
   "source": [
    "## Interpretation of expected results, *Example*"
   ]
  },
  {
   "cell_type": "markdown",
   "id": "b43ef9a4",
   "metadata": {
    "slideshow": {
     "slide_type": "fragment"
    }
   },
   "source": [
    "We predict that participants in the pre-treated group will have **fewer shares per person** than participants in the group that did not receive the pre-treatment.\n",
    "\n",
    "This would potentially indicate that receiving information **updates users' prior beliefs about the world**, making them less likely to share new information that contradicts that updated belief."
   ]
  },
  {
   "cell_type": "markdown",
   "id": "3013b1de",
   "metadata": {
    "slideshow": {
     "slide_type": "notes"
    }
   },
   "source": [
    "---"
   ]
  },
  {
   "cell_type": "markdown",
   "id": "194a5cfd",
   "metadata": {
    "slideshow": {
     "slide_type": "slide"
    }
   },
   "source": [
    "# Are there other reasons why we might get these results?"
   ]
  },
  {
   "cell_type": "markdown",
   "id": "b0ddf027",
   "metadata": {
    "slideshow": {
     "slide_type": "fragment"
    }
   },
   "source": [
    "## Randomness\n",
    "\n",
    "Could we have **seen the expected results**, but under the **null model**, where there is no difference?"
   ]
  },
  {
   "cell_type": "markdown",
   "id": "e1dc17a6",
   "metadata": {
    "slideshow": {
     "slide_type": "fragment"
    }
   },
   "source": [
    "That is, what is\n",
    "\n",
    "$$ \\mathrm{Pr}(\\textrm{expected test results} \\mid \\textrm{null hypothesis}) $$"
   ]
  },
  {
   "cell_type": "markdown",
   "id": "bf4dc403",
   "metadata": {
    "slideshow": {
     "slide_type": "fragment"
    }
   },
   "source": [
    "> The $p$-value!"
   ]
  },
  {
   "cell_type": "markdown",
   "id": "ad30b7ec",
   "metadata": {
    "slideshow": {
     "slide_type": "fragment"
    }
   },
   "source": [
    "&nbsp;\n",
    "\n",
    "&nbsp;\n",
    "\n",
    "&nbsp;\n",
    "\n",
    "&nbsp;"
   ]
  },
  {
   "cell_type": "markdown",
   "id": "69eaa3e8",
   "metadata": {
    "slideshow": {
     "slide_type": "subslide"
    }
   },
   "source": [
    "### Is the null hypothesis the only other model that could generate the expected results?"
   ]
  },
  {
   "cell_type": "markdown",
   "id": "17d5c21b",
   "metadata": {
    "slideshow": {
     "slide_type": "subslide"
    }
   },
   "source": [
    "## Poor control\n",
    "\n",
    "Could we have **seen the expected results**, but under an **\"uninteresting\" model**, where the differences are caused by something unrelated to the mechanism we're looking at in our hypothesized model?"
   ]
  },
  {
   "cell_type": "markdown",
   "id": "f47ff672",
   "metadata": {
    "slideshow": {
     "slide_type": "subslide"
    }
   },
   "source": [
    "### Model 2 (Hypothesized model)\n",
    "Prior exposure to trusted information **has an impact** on subsequent sharing of misinformation.\n",
    "\n",
    "### Model 3 (\"Uninteresting\" model)\n",
    "Some people share more things than other people in general."
   ]
  },
  {
   "cell_type": "markdown",
   "id": "2fc5f9e6",
   "metadata": {
    "slideshow": {
     "slide_type": "subslide"
    }
   },
   "source": [
    "## Good control / \"Incisive\" experiment\n",
    "\n",
    "Designing experimental approach such that, if we get the results we expect, our **interpretation** strongly favors one particular model."
   ]
  },
  {
   "cell_type": "markdown",
   "id": "64e868b2",
   "metadata": {
    "slideshow": {
     "slide_type": "fragment"
    }
   },
   "source": [
    "That is, our **posterior probability**—our **updated beliefs**—**given** the expected results strongly favors one particular model."
   ]
  },
  {
   "cell_type": "markdown",
   "id": "c791d063",
   "metadata": {
    "slideshow": {
     "slide_type": "notes"
    }
   },
   "source": [
    "---"
   ]
  },
  {
   "cell_type": "markdown",
   "id": "4ec88613",
   "metadata": {
    "slideshow": {
     "slide_type": "subslide"
    }
   },
   "source": [
    "## Other patterns of results\n",
    "\n",
    "What are the **other** ways that your experiment could turn out?"
   ]
  },
  {
   "cell_type": "markdown",
   "id": "636baf87",
   "metadata": {
    "slideshow": {
     "slide_type": "subslide"
    }
   },
   "source": [
    "## Other patterns of results, *Example*"
   ]
  },
  {
   "cell_type": "markdown",
   "id": "2e731959",
   "metadata": {
    "slideshow": {
     "slide_type": "fragment"
    }
   },
   "source": [
    "Alternatively, participants in the pre-treated group may have a number of shares that **does not statistically differ** from participants in the group that did not receive the pre-treatment."
   ]
  },
  {
   "cell_type": "markdown",
   "id": "5e8bc199",
   "metadata": {
    "slideshow": {
     "slide_type": "subslide"
    }
   },
   "source": [
    "## Interpretation of other patterns of results\n",
    "\n",
    "What would getting **these** results tell us about our model?"
   ]
  },
  {
   "cell_type": "markdown",
   "id": "faeb1a9f",
   "metadata": {
    "slideshow": {
     "slide_type": "subslide"
    }
   },
   "source": [
    "Or, how do we **update** our beliefs when we get results we **are not** expecting?\n",
    "\n",
    "That is, what are the updated, **posterior probabilities**,\n",
    "\n",
    "$$ \\begin{eqnarray*}\n",
    "\\mathrm{Pr}(\\textrm{model 1}) & \\rightarrow &\\mathrm{Pr}(\\textrm{model 1} \\mid \\textrm{unexpected test results})\\\\\n",
    "\\mathrm{Pr}(\\textrm{model 2}) & \\rightarrow &\\mathrm{Pr}(\\textrm{model 2} \\mid \\textrm{unexpected test results})\\\\\n",
    "\\mathrm{Pr}(\\textrm{model 3}) & \\rightarrow &\\mathrm{Pr}(\\textrm{model 3} \\mid \\textrm{unexpected test results})\\\\\n",
    "&\\cdots\n",
    "\\end{eqnarray*}$$\n",
    "\n",
    "(The model with the highest value is the **most likely model**, **given** we see a particular pattern of results.)"
   ]
  },
  {
   "cell_type": "markdown",
   "id": "045443b6",
   "metadata": {
    "slideshow": {
     "slide_type": "subslide"
    }
   },
   "source": [
    "### Example\n",
    "\n",
    "The **negative predictive value** of the proposed experiment is\n",
    "\n",
    "$$ \\mathrm{Pr}(\\textrm{null model} \\mid \\textrm{null results}) $$"
   ]
  },
  {
   "cell_type": "markdown",
   "id": "cd892295",
   "metadata": {
    "slideshow": {
     "slide_type": "fragment"
    }
   },
   "source": [
    "What is one reason why the NPV of an experiment might be low?"
   ]
  },
  {
   "cell_type": "markdown",
   "id": "19b650f1",
   "metadata": {
    "slideshow": {
     "slide_type": "fragment"
    }
   },
   "source": [
    "* Low power."
   ]
  },
  {
   "cell_type": "markdown",
   "id": "2aebe8be",
   "metadata": {
    "slideshow": {
     "slide_type": "fragment"
    }
   },
   "source": [
    "* Very strong prior. (\"I don't believe it.\")"
   ]
  },
  {
   "cell_type": "markdown",
   "id": "f3ecc8b5",
   "metadata": {
    "slideshow": {
     "slide_type": "notes"
    }
   },
   "source": [
    "---"
   ]
  },
  {
   "cell_type": "markdown",
   "id": "66486487",
   "metadata": {
    "slideshow": {
     "slide_type": "slide"
    }
   },
   "source": [
    "# A compact example\n",
    "\n",
    "*Not perfect by any means ...*"
   ]
  },
  {
   "cell_type": "markdown",
   "id": "d14e5452",
   "metadata": {
    "slideshow": {
     "slide_type": "notes"
    }
   },
   "source": [
    "FXR knockout leads to intractable seizures in early adulthood with no changes in gross neuronal morphology, suggesting a synaptic mechanism [Question]. One possibility is that, as has been shown for other astrocyte-derived factors [1], astrocytic FXR is needed for proper formation of a certain class of synapses; in its absence, the resulting imbalance leads to epileptogenesis. To test this, I propose using *Aldh1l1*-conditional knockout of FXR to measure its effect on mEPSC and mIPSC frequency and amplitude at P12, when functional synapses are still being formed, and P24, when more mature synapses have formed [1]. I hypothesize that knockout of astrocytic FXR results in an impairment in the development of inhibitory synapses, as measured by mIPSC characteristics. This may suggest that development of seizures in FXR-knockout mice proceeds via a developmental excitatory-inhibitory imbalance."
   ]
  },
  {
   "cell_type": "markdown",
   "id": "1797f505",
   "metadata": {
    "slideshow": {
     "slide_type": "subslide"
    }
   },
   "source": [
    "## Background\n",
    "\n",
    "FXR knockout leads to intractable seizures in early adulthood with no changes in gross neuronal morphology, suggesting a synaptic mechanism."
   ]
  },
  {
   "cell_type": "markdown",
   "id": "d1f811ab",
   "metadata": {
    "slideshow": {
     "slide_type": "subslide"
    }
   },
   "source": [
    "## Question / Hypothesis\n",
    "\n",
    "One possibility is that, as has been shown for other astrocyte-derived factors [1], astrocytic FXR is needed for proper formation of a certain class of synapses; in its absence, the resulting imbalance leads to epileptogenesis."
   ]
  },
  {
   "cell_type": "markdown",
   "id": "597ad9a3",
   "metadata": {
    "slideshow": {
     "slide_type": "subslide"
    }
   },
   "source": [
    "> The \"question\" is implicit in the specification of candidate models. The models being considered are\n",
    "> 1. FXR signaling is not needed for development of proper synaptic function. (**Null**.)\n",
    "> 2. FXR signaling is needed for development of proper synaptic function. (**Alternate**.)"
   ]
  },
  {
   "cell_type": "markdown",
   "id": "8681125e",
   "metadata": {
    "slideshow": {
     "slide_type": "subslide"
    }
   },
   "source": [
    "## Experimental approach\n",
    "\n",
    "To test this, I propose using *Aldh1l1*-conditional knockout of FXR to measure its effect on mEPSC and mIPSC frequency and amplitude at P12, when functional synapses are still being formed, and P24, when more mature synapses have formed [1]."
   ]
  },
  {
   "cell_type": "markdown",
   "id": "90a9e170",
   "metadata": {
    "slideshow": {
     "slide_type": "subslide"
    }
   },
   "source": [
    "## Expected results\n",
    "\n",
    "I hypothesize that knockout of astrocytic FXR results in an impairment in the development of inhibitory synapses, as measured by mIPSC characteristics."
   ]
  },
  {
   "cell_type": "markdown",
   "id": "81596446",
   "metadata": {
    "slideshow": {
     "slide_type": "subslide"
    }
   },
   "source": [
    "## Interpretation of expected results\n",
    "\n",
    "This may suggest that development of seizures in FXR-knockout mice proceeds via a developmental excitatory-inhibitory imbalance."
   ]
  },
  {
   "cell_type": "markdown",
   "id": "4c0ee957",
   "metadata": {
    "slideshow": {
     "slide_type": "notes"
    }
   },
   "source": [
    "---"
   ]
  },
  {
   "cell_type": "markdown",
   "id": "39394de1",
   "metadata": {
    "slideshow": {
     "slide_type": "slide"
    }
   },
   "source": [
    "# Summary"
   ]
  },
  {
   "cell_type": "markdown",
   "id": "260d2dbf",
   "metadata": {
    "slideshow": {
     "slide_type": "subslide"
    }
   },
   "source": [
    "When we conduct experiments, we collect **data** that **updates** our beliefs about the world:\n",
    "\n",
    "$$\n",
    "\\begin{eqnarray*}\n",
    "& \\mathrm{Pr}(\\textrm{model}) & \\\\\n",
    "& \\downarrow & \\\\\n",
    "& \\mathrm{Pr}(\\textrm{model} \\mid \\textrm{data})\n",
    "\\end{eqnarray*}\n",
    "$$"
   ]
  },
  {
   "cell_type": "markdown",
   "id": "da585467",
   "metadata": {
    "slideshow": {
     "slide_type": "fragment"
    }
   },
   "source": [
    "When you design an experiment, you specify **what data you will collect** and **how that will update your beliefs**."
   ]
  },
  {
   "cell_type": "markdown",
   "id": "baf345cf",
   "metadata": {
    "slideshow": {
     "slide_type": "subslide"
    }
   },
   "source": [
    "## Your experimental designs should include:"
   ]
  },
  {
   "cell_type": "markdown",
   "id": "4ebc1aa3",
   "metadata": {
    "slideshow": {
     "slide_type": "subslide"
    }
   },
   "source": [
    "### Background / Question"
   ]
  },
  {
   "cell_type": "markdown",
   "id": "0e989999",
   "metadata": {
    "slideshow": {
     "slide_type": "fragment"
    }
   },
   "source": [
    "### Hypothesis"
   ]
  },
  {
   "cell_type": "markdown",
   "id": "54a94d93",
   "metadata": {
    "slideshow": {
     "slide_type": "fragment"
    }
   },
   "source": [
    "These establish your **prior belief**."
   ]
  },
  {
   "cell_type": "markdown",
   "id": "86a33950",
   "metadata": {
    "slideshow": {
     "slide_type": "subslide"
    }
   },
   "source": [
    "### Experimental approach"
   ]
  },
  {
   "cell_type": "markdown",
   "id": "b5da3608",
   "metadata": {
    "slideshow": {
     "slide_type": "fragment"
    }
   },
   "source": [
    "* With specified **measured outcomes** that will be tested"
   ]
  },
  {
   "cell_type": "markdown",
   "id": "b833c71d",
   "metadata": {
    "slideshow": {
     "slide_type": "fragment"
    }
   },
   "source": [
    "* With specified **controls** that isolate the models being interrogated"
   ]
  },
  {
   "cell_type": "markdown",
   "id": "56dbcb45",
   "metadata": {
    "slideshow": {
     "slide_type": "fragment"
    }
   },
   "source": [
    "This establishes\n",
    "* **how your data are generated**\n",
    "* that your data **are informative about your models**"
   ]
  },
  {
   "cell_type": "markdown",
   "id": "6e80c92f",
   "metadata": {
    "slideshow": {
     "slide_type": "subslide"
    }
   },
   "source": [
    "### Patterns of results and interpretations"
   ]
  },
  {
   "cell_type": "markdown",
   "id": "1e3efe0f",
   "metadata": {
    "slideshow": {
     "slide_type": "-"
    }
   },
   "source": [
    "* Do **\"positive\" results** support the **hypothesized model**?\n",
    "    * The evidence your experiment will provide, and what it means\n",
    "    * i.e., the **PPV**"
   ]
  },
  {
   "cell_type": "markdown",
   "id": "a0a960cf",
   "metadata": {
    "slideshow": {
     "slide_type": "subslide"
    }
   },
   "source": [
    "### Patterns of results and interpretations"
   ]
  },
  {
   "cell_type": "markdown",
   "id": "ee2e2b46",
   "metadata": {
    "slideshow": {
     "slide_type": "-"
    }
   },
   "source": [
    "* Do **\"positive\" results** support **other models**?\n",
    "    * Could this effect be due to chance? (Under null model.)\n",
    "    * Could this effect be due to confounds? (Under \"uninteresting\" model.)\n",
    "    * Could this effect be irrelevant? (Under unlikely, very different model.)\n",
    "    * Could this effect mean something completely different? (Under unlikely, very different model.)"
   ]
  },
  {
   "cell_type": "markdown",
   "id": "c79e5909",
   "metadata": {
    "slideshow": {
     "slide_type": "subslide"
    }
   },
   "source": [
    "### Patterns of results and interpretations"
   ]
  },
  {
   "cell_type": "markdown",
   "id": "00049fd2",
   "metadata": {
    "slideshow": {
     "slide_type": "fragment"
    }
   },
   "source": [
    "* Do **\"negative\" results** support the **null model**?\n",
    "    * All experiments are noisy; does a \"negative\" result necessarily tell us that our hypothesis was wrong?\n",
    "    * i.e., what is the **NPV**?"
   ]
  },
  {
   "cell_type": "markdown",
   "id": "44dee916",
   "metadata": {
    "slideshow": {
     "slide_type": "fragment"
    }
   },
   "source": [
    "* Are there other patterns of results that would sway us in a different direction?"
   ]
  },
  {
   "cell_type": "markdown",
   "id": "c791bf20",
   "metadata": {
    "slideshow": {
     "slide_type": "subslide"
    }
   },
   "source": [
    "### Patterns of results and interpretations"
   ]
  },
  {
   "cell_type": "markdown",
   "id": "6be0936e",
   "metadata": {
    "slideshow": {
     "slide_type": "-"
    }
   },
   "source": [
    "These establish how the data you generate **update our beliefs**."
   ]
  },
  {
   "cell_type": "markdown",
   "id": "a1527da0",
   "metadata": {
    "slideshow": {
     "slide_type": "slide"
    }
   },
   "source": [
    "<img src=\"figures/experimental-design/f1.png\"/>"
   ]
  }
 ],
 "metadata": {
  "celltoolbar": "Slideshow",
  "kernelspec": {
   "display_name": "Python 3 (ipykernel)",
   "language": "python",
   "name": "python3"
  },
  "language_info": {
   "codemirror_mode": {
    "name": "ipython",
    "version": 3
   },
   "file_extension": ".py",
   "mimetype": "text/x-python",
   "name": "python",
   "nbconvert_exporter": "python",
   "pygments_lexer": "ipython3",
   "version": "3.10.4"
  }
 },
 "nbformat": 4,
 "nbformat_minor": 5
}
