{
 "cells": [
  {
   "cell_type": "markdown",
   "metadata": {
    "slideshow": {
     "slide_type": "slide"
    }
   },
   "source": [
    "# \"If doing statistics doesn't make you uncomfortable, you are probably doing it wrong\"\n",
    "\n",
    "—Vijay"
   ]
  },
  {
   "cell_type": "markdown",
   "metadata": {
    "slideshow": {
     "slide_type": "subslide"
    }
   },
   "source": [
    "# Our aim in science is to understand objective truths in the world."
   ]
  },
  {
   "cell_type": "markdown",
   "metadata": {
    "slideshow": {
     "slide_type": "fragment"
    }
   },
   "source": [
    "# However, you can never know anything with absolute certainty. All you can do is to quantify how wrong you think you are."
   ]
  },
  {
   "cell_type": "markdown",
   "metadata": {
    "slideshow": {
     "slide_type": "subslide"
    }
   },
   "source": [
    "# Let us consider an example. You manipulated the activity of your favorite neurons in one group of animals. The other group was a control group with no manipulation."
   ]
  },
  {
   "cell_type": "markdown",
   "metadata": {
    "slideshow": {
     "slide_type": "fragment"
    }
   },
   "source": [
    "# You find that the animals can now predict the future!!!!!! (p<0.05)"
   ]
  },
  {
   "cell_type": "markdown",
   "metadata": {
    "slideshow": {
     "slide_type": "fragment"
    }
   },
   "source": [
    "<img src=\"figures/stats/f1.png\"/>"
   ]
  },
  {
   "cell_type": "markdown",
   "metadata": {
    "slideshow": {
     "slide_type": "fragment"
    }
   },
   "source": [
    "## Is there anything you can say with absolute certainty given this finding? "
   ]
  },
  {
   "cell_type": "markdown",
   "metadata": {
    "slideshow": {
     "slide_type": "fragment"
    }
   },
   "source": [
    "## Is this statement useful?\n",
    "\n",
    "&nbsp;\n",
    "\n",
    "&nbsp;"
   ]
  },
  {
   "cell_type": "markdown",
   "metadata": {
    "slideshow": {
     "slide_type": "slide"
    }
   },
   "source": [
    "<a id=\"part1\"></a>\n",
    "\n",
    "# PART 1. Population versus Sample\n"
   ]
  },
  {
   "cell_type": "markdown",
   "metadata": {
    "slideshow": {
     "slide_type": "fragment"
    }
   },
   "source": [
    "What **are** you trying to say when you make a statistical statement about the population? \n",
    "\n",
    "When making any *useful* statistical claim, you are always making a statement about the population and not just about your small sample of the population."
   ]
  },
  {
   "cell_type": "markdown",
   "metadata": {
    "slideshow": {
     "slide_type": "subslide"
    }
   },
   "source": [
    "Is it even possible to say something about the population without actually measuring every single piece of data in the population?"
   ]
  },
  {
   "cell_type": "markdown",
   "metadata": {
    "slideshow": {
     "slide_type": "fragment"
    }
   },
   "source": [
    "* Do YOU believe that you can say what will happen as you collect more data (with reasonable certainty) without actually collecting it? How many of you will be ready to believe that you can make a statement about *unseen* data?"
   ]
  },
  {
   "cell_type": "markdown",
   "metadata": {
    "slideshow": {
     "slide_type": "fragment"
    }
   },
   "source": [
    "* This is why statistics should make you uncomfortable. If you ever said \"p<0.05\", you have made a statement about unseen data"
   ]
  },
  {
   "cell_type": "markdown",
   "metadata": {
    "slideshow": {
     "slide_type": "subslide"
    }
   },
   "source": [
    "How can one infer anything about the population without seeing all the data?"
   ]
  },
  {
   "cell_type": "markdown",
   "metadata": {
    "slideshow": {
     "slide_type": "fragment"
    }
   },
   "source": [
    "The only way to proceed is to make some assumption regarding how the unseen data will look. The most important assumption is that the data comes from some pre-specified probability distribution. "
   ]
  },
  {
   "cell_type": "markdown",
   "metadata": {
    "slideshow": {
     "slide_type": "fragment"
    }
   },
   "source": [
    "An example distribution is a **NORMAL** distribution (bell curve)"
   ]
  },
  {
   "cell_type": "markdown",
   "metadata": {
    "slideshow": {
     "slide_type": "subslide"
    }
   },
   "source": [
    "Such an assumption of a distribution for the population is **THE MOST IMPORTANT ASSUMPTION IN STATISTICS**. "
   ]
  },
  {
   "cell_type": "markdown",
   "metadata": {
    "slideshow": {
     "slide_type": "fragment"
    }
   },
   "source": [
    "* Without this assumption, there is **NO WAY** to guess how uncollected data will look. So any statement that you make or have made about stats (e.g. p values) are only as worth as the assumptions you made about the data. If your assumption is wrong, your statement is wrong. Plain and simple! "
   ]
  },
  {
   "cell_type": "markdown",
   "metadata": {
    "slideshow": {
     "slide_type": "fragment"
    }
   },
   "source": [
    "* If this fact makes you really worried about making any statistical assertion, then good! You should always be cautious about statistical claims you are making and make sure to be very careful in using statistics. "
   ]
  },
  {
   "cell_type": "markdown",
   "metadata": {
    "slideshow": {
     "slide_type": "slide"
    }
   },
   "source": [
    "We will now use some Python code to illustrate these ideas"
   ]
  },
  {
   "cell_type": "markdown",
   "metadata": {
    "slideshow": {
     "slide_type": "fragment"
    }
   },
   "source": [
    "(Don't worry if you don't understand specifics of the code; it's all on GitHub to peruse later.)"
   ]
  },
  {
   "cell_type": "code",
   "execution_count": 83,
   "metadata": {
    "ExecuteTime": {
     "end_time": "2021-08-30T21:40:53.853000Z",
     "start_time": "2021-08-30T21:40:53.457000Z"
    },
    "slideshow": {
     "slide_type": "slide"
    }
   },
   "outputs": [
    {
     "data": {
      "image/png": "[encoded data removed]",
      "text/plain": [
       "<Figure size 576x432 with 1 Axes>"
      ]
     },
     "metadata": {
      "needs_background": "light"
     },
     "output_type": "display_data"
    }
   ],
   "source": [
    "import numpy as np\n",
    "import matplotlib.pyplot as plt\n",
    "%matplotlib inline\n",
    "import scipy.stats as stats\n",
    "import statsmodels.api as sm\n",
    "\n",
    "np.random.seed(100)\n",
    "\n",
    "# Create a population of normally distributed random numbers.\n",
    "# This is supposed to represent an entire population of interest.\n",
    "# You have explicitly modeled your population as normally distributed.\n",
    "pop_mean = 1\n",
    "pop_std = 1\n",
    "pop_size = 10000\n",
    "numbins = 50\n",
    "population = np.random.normal(pop_mean, pop_std,\n",
    "                              size=(pop_size,))\n",
    "\n",
    "fig, ax = plt.subplots(figsize=(8,6))\n",
    "pdf, bins, _ = ax.hist(population,\n",
    "                       bins=numbins,\n",
    "                       density=True,\n",
    "                       label='Population emplirical pdf',\n",
    "                       alpha=0.6,\n",
    "                       color='b')\n",
    "ax.plot(bins, stats.norm.pdf(bins, pop_mean, pop_std), 'r',\n",
    "        label='Population theoretical pdf')\n",
    "ax.set_xlabel('Future prediction ability')\n",
    "ax.set_ylabel('Probability Distribution Function')\n",
    "\n",
    "\n",
    "# Now randomly select a sample from the population\n",
    "sample_size = 20\n",
    "sample = np.random.choice(population,\n",
    "                          size=sample_size,\n",
    "                          replace=False)\n",
    "_ = ax.hist(sample,\n",
    "            bins=bins,\n",
    "            density=True,\n",
    "            label='Sample emplirical pdf',\n",
    "            alpha=0.6,\n",
    "            color='g')\n",
    "ax.legend()\n",
    "\n",
    "plt.show()"
   ]
  },
  {
   "cell_type": "markdown",
   "metadata": {
    "slideshow": {
     "slide_type": "slide"
    }
   },
   "source": [
    "Now let us plot this same data using the distribution's cumulative distribution function. The CDF plots the **percentile of each observation**. Just that instead of a % unit, you will have a scale from 0 to 1. In other words, CDF(x) is simply the percentile of x divided by 100"
   ]
  },
  {
   "cell_type": "code",
   "execution_count": 84,
   "metadata": {
    "ExecuteTime": {
     "end_time": "2021-08-30T21:25:53.883000Z",
     "start_time": "2021-08-30T21:25:53.598000Z"
    },
    "slideshow": {
     "slide_type": "slide"
    }
   },
   "outputs": [
    {
     "data": {
      "image/png": "[encoded data removed]",
      "text/plain": [
       "<Figure size 432x288 with 1 Axes>"
      ]
     },
     "metadata": {
      "needs_background": "light"
     },
     "output_type": "display_data"
    }
   ],
   "source": [
    "xlocs = np.linspace(-5, 5, 200)\n",
    "fig, ax = plt.subplots()\n",
    "ax.plot(xlocs, sm.distributions.ECDF(population)(xlocs), 'b',\n",
    "        label='Population empirical cdf')\n",
    "ax.plot(xlocs, sm.distributions.ECDF(sample)(xlocs), 'g',\n",
    "        label='Sample empirical cdf')\n",
    "ax.plot(xlocs, stats.norm.cdf(xlocs, pop_mean, pop_std), 'r',\n",
    "        label='Population theoretical cdf')\n",
    "ax.axhline(0.5,\n",
    "           linestyle='--',\n",
    "           color='k')\n",
    "ax.axvline(pop_mean,\n",
    "           linestyle='--',\n",
    "           color='k')\n",
    "ax.text(pop_mean+0.1*pop_std, 0, 'Mean')\n",
    "ax.legend()\n",
    "ax.set_xlabel('Value')\n",
    "ax.set_ylabel('Cumulative Distribution Function')\n",
    "\n",
    "plt.show()"
   ]
  },
  {
   "cell_type": "markdown",
   "metadata": {
    "slideshow": {
     "slide_type": "fragment"
    }
   },
   "source": [
    "&nbsp;\n",
    "\n",
    "&nbsp;\n",
    "\n",
    "&nbsp;\n",
    "\n",
    "&nbsp;"
   ]
  },
  {
   "cell_type": "markdown",
   "metadata": {
    "slideshow": {
     "slide_type": "slide"
    }
   },
   "source": [
    "You can notice from the above simulation that samples from the population often look nothing like the population, especially at low sample sizes. This should really make you worried because as we discussed, in real data, we know nothing about the population. We are simply trying to estimate how the population should look based on a small sample from the population.   \n",
    "\n",
    "Now let us see how a distribution that is not normal looks like. "
   ]
  },
  {
   "cell_type": "code",
   "execution_count": 85,
   "metadata": {
    "ExecuteTime": {
     "end_time": "2021-08-30T21:42:04.343000Z",
     "start_time": "2021-08-30T21:42:03.842000Z"
    },
    "slideshow": {
     "slide_type": "slide"
    }
   },
   "outputs": [
    {
     "data": {
      "image/png": "[encoded data removed]",
      "text/plain": [
       "<Figure size 864x432 with 2 Axes>"
      ]
     },
     "metadata": {
      "needs_background": "light"
     },
     "output_type": "display_data"
    }
   ],
   "source": [
    "fig, axs = plt.subplots(1,2,figsize=(12,6))\n",
    "xlocs = np.linspace(-2, 6, 200)\n",
    "axs[0].plot(xlocs, stats.norm.pdf(xlocs, pop_mean, pop_std), 'r',\n",
    "            label='normal')\n",
    "axs[0].plot(xlocs, stats.lognorm.pdf(xlocs, pop_std, scale=pop_mean), 'b',\n",
    "            label='lognormal')\n",
    "axs[0].plot(xlocs, stats.uniform.pdf(xlocs, pop_mean-pop_std, pop_mean+pop_std), 'g',\n",
    "            label='uniform')\n",
    "axs[0].plot(xlocs, stats.chi2.pdf(xlocs, pop_mean), 'm',\n",
    "            label='$\\chi^2$')\n",
    "axs[0].set_title('Theoretical PDF')\n",
    "axs[0].legend()\n",
    "axs[0].set_xlabel('Future prediction ability')\n",
    "axs[0].set_ylabel('Probability Distribution Function')\n",
    "\n",
    "axs[1].plot(xlocs, stats.norm.cdf(xlocs, pop_mean, pop_std), 'r',\n",
    "            label='normal')\n",
    "axs[1].plot(xlocs, stats.lognorm.cdf(xlocs, pop_std, scale=np.exp(np.log(pop_mean)-pop_std**2/2.0)), 'b',\n",
    "            label='lognormal')\n",
    "axs[1].plot(xlocs, stats.uniform.cdf(xlocs, pop_mean-pop_std, pop_mean+pop_std), 'g',\n",
    "            label='uniform')\n",
    "axs[1].plot(xlocs, stats.chi2.cdf(xlocs, pop_mean), 'm',\n",
    "            label='$\\chi^2$')\n",
    "axs[1].set_title('Theoretical CDF')\n",
    "axs[1].legend()\n",
    "axs[1].set_xlabel('Future prediction ability')\n",
    "axs[1].set_ylabel('Cumulative Distribution Function')\n",
    "\n",
    "plt.show()"
   ]
  },
  {
   "cell_type": "markdown",
   "metadata": {
    "slideshow": {
     "slide_type": "slide"
    }
   },
   "source": [
    "These distributions plotted above are all dramatically different from each other. I also said that the assumption about the distribution is the most important assumption in statistics.  \n",
    "<br>\n"
   ]
  },
  {
   "cell_type": "markdown",
   "metadata": {
    "slideshow": {
     "slide_type": "fragment"
    }
   },
   "source": [
    "So, which of the above distributions should we use as a model for our data? "
   ]
  },
  {
   "cell_type": "markdown",
   "metadata": {
    "slideshow": {
     "slide_type": "subslide"
    }
   },
   "source": [
    "Turns out that there is this **SUPER CONVENIENT** mathematical theorem called CENTRAL LIMIT THEOREM that saves us. "
   ]
  },
  {
   "cell_type": "markdown",
   "metadata": {
    "slideshow": {
     "slide_type": "fragment"
    }
   },
   "source": [
    "What the CLT states is that regardless of the starting distribution, the distribution formed by the mean of a sample will converge towards a normal distribution."
   ]
  },
  {
   "cell_type": "code",
   "execution_count": 88,
   "metadata": {
    "ExecuteTime": {
     "end_time": "2021-08-30T21:31:22.384000Z",
     "start_time": "2021-08-30T21:31:21.588000Z"
    },
    "scrolled": true,
    "slideshow": {
     "slide_type": "slide"
    }
   },
   "outputs": [
    {
     "data": {
      "image/png": "[encoded data removed]",
      "text/plain": [
       "<Figure size 864x432 with 2 Axes>"
      ]
     },
     "metadata": {
      "needs_background": "light"
     },
     "output_type": "display_data"
    }
   ],
   "source": [
    "sample_size = 100\n",
    "numrepeats = 1000\n",
    "xlocs = np.linspace(1-3.0/sample_size**0.5, 1+5.0/sample_size**0.5, 20)\n",
    "fig, axs = plt.subplots(1,2,figsize=(12,6))\n",
    "\n",
    "axs[0].set_title(f'Empirical PDF of the mean\\nof {sample_size} samples from a distribution')\n",
    "axs[1].set_title(f'Empirical CDF of the mean\\nof {sample_size} samples from a distribution')\n",
    "\n",
    "# For each repeat, get a random sample from the normal distribution\n",
    "sample = np.array([np.mean(stats.norm.rvs(pop_mean, pop_std,\n",
    "                                          size=sample_size))\n",
    "                   for i in range(numrepeats)])\n",
    "_=axs[0].hist(sample, xlocs,\n",
    "              color='r',\n",
    "              label='Normal',\n",
    "              density=True,\n",
    "              alpha=0.5)\n",
    "axs[1].plot(xlocs, sm.distributions.ECDF(sample)(xlocs), 'r',\n",
    "            label='Normal')\n",
    "\n",
    "sample = np.array([np.mean(stats.lognorm.rvs(pop_std,\n",
    "                                             scale=np.exp(np.log(pop_mean)-pop_std**2  /2.0),\n",
    "                                             size=sample_size))\n",
    "                   for i in range(numrepeats)])\n",
    "_=axs[0].hist(sample, xlocs,\n",
    "              color='b',\n",
    "              label='Lognormal',\n",
    "              density=True,\n",
    "              alpha=0.5)\n",
    "axs[1].plot(xlocs, sm.distributions.ECDF(sample)(xlocs), 'b',\n",
    "            label='Lognormal')\n",
    "\n",
    "sample = np.array([np.mean(stats.uniform.rvs(pop_mean-pop_std, pop_mean+pop_std,\n",
    "                                             size=sample_size))\n",
    "                   for i in range(numrepeats)])\n",
    "_=axs[0].hist(sample, xlocs,\n",
    "              color='g',\n",
    "              label='Uniform',\n",
    "              density=True,\n",
    "              alpha=0.5)\n",
    "axs[1].plot(xlocs, sm.distributions.ECDF(sample)(xlocs), 'g',\n",
    "            label='Uniform')\n",
    "\n",
    "sample = np.array([np.mean(stats.chi2.rvs(pop_mean,\n",
    "                                          size=sample_size))\n",
    "                   for i in range(numrepeats)])\n",
    "_=axs[0].hist(sample, xlocs,\n",
    "              color='m', \n",
    "              label='$\\chi^2$',\n",
    "              density=True,\n",
    "              alpha=0.5)\n",
    "axs[1].plot(xlocs, sm.distributions.ECDF(sample)(xlocs), 'm',\n",
    "            label='$\\chi^2$')\n",
    "\n",
    "axs[0].legend()\n",
    "axs[0].set_xlabel('Value')\n",
    "axs[0].set_ylabel('Probability Distribution Function')\n",
    "axs[1].legend()\n",
    "axs[1].set_xlabel('Value')\n",
    "axs[1].set_ylabel('Cumulative Distribution Function')\n",
    "fig.tight_layout()\n",
    "\n",
    "plt.show()"
   ]
  },
  {
   "cell_type": "markdown",
   "metadata": {
    "slideshow": {
     "slide_type": "slide"
    }
   },
   "source": [
    "VOILA! All of the distributions now look quite close to normal! This is the magic of the CLT. Even though you started with highly non-normal distributions, the distribution of the means of samples from these distributions is normal!"
   ]
  },
  {
   "cell_type": "markdown",
   "metadata": {
    "slideshow": {
     "slide_type": "subslide"
    }
   },
   "source": [
    "How does this help us?"
   ]
  },
  {
   "cell_type": "markdown",
   "metadata": {
    "slideshow": {
     "slide_type": "slide"
    }
   },
   "source": [
    "# PART 2. Sampling distribution of the mean"
   ]
  },
  {
   "cell_type": "markdown",
   "metadata": {
    "slideshow": {
     "slide_type": "fragment"
    }
   },
   "source": [
    "* In most cases, what we want to test is whether the **MEAN** of a population abides by some prediction. How do we guess anything about the mean of the population from samples?"
   ]
  },
  {
   "cell_type": "markdown",
   "metadata": {
    "slideshow": {
     "slide_type": "subslide"
    }
   },
   "source": [
    "* From Central Limit Theorem, we know that the distribution of **sample means** is approximately normal **regardless** of the distribution of the sample! Turns out that the expected mean of this distribution is the mean of the population, and the standard deviation of this distribution, called the *standard error of the mean*, is given by"
   ]
  },
  {
   "cell_type": "markdown",
   "metadata": {
    "slideshow": {
     "slide_type": "fragment"
    }
   },
   "source": [
    "* standard error of the mean = $\\frac{population\\:standard\\:deviation}{\\sqrt{sample\\:size}}$"
   ]
  },
  {
   "cell_type": "markdown",
   "metadata": {
    "slideshow": {
     "slide_type": "subslide"
    }
   },
   "source": [
    "So, the higher the sample size, the lower the uncertainty about the population mean given a sample"
   ]
  },
  {
   "cell_type": "code",
   "execution_count": 94,
   "metadata": {
    "ExecuteTime": {
     "end_time": "2021-08-30T21:45:57.007000Z",
     "start_time": "2021-08-30T21:45:56.496000Z"
    },
    "slideshow": {
     "slide_type": "slide"
    }
   },
   "outputs": [
    {
     "data": {
      "image/png": "[encoded data removed]",
      "text/plain": [
       "<Figure size 576x432 with 1 Axes>"
      ]
     },
     "metadata": {
      "needs_background": "light"
     },
     "output_type": "display_data"
    }
   ],
   "source": [
    "import numpy as np\n",
    "import matplotlib.pyplot as plt\n",
    "%matplotlib inline\n",
    "import scipy.stats as stats\n",
    "\n",
    "np.random.seed(100)\n",
    "\n",
    "# Create a population of normally distributed random numbers.\n",
    "# This is supposed to represent an entire population of interest.\n",
    "# You have explicitly modeled your population as normally distributed.\n",
    "pop_mean = 1\n",
    "pop_std = 1\n",
    "pop_size = 10000\n",
    "numbins = 50\n",
    "population = np.random.normal(pop_mean, pop_std,\n",
    "                              size=(pop_size,))\n",
    "\n",
    "fig, ax = plt.subplots(figsize=(8,6))\n",
    "pdf, bins, _ = ax.hist(population,\n",
    "                       bins=numbins,\n",
    "                       density=True,\n",
    "                       label='Population emplirical pdf',\n",
    "                       alpha=0.6,\n",
    "                       color='b')\n",
    "ax.plot(bins, stats.norm.pdf(bins, pop_mean, pop_std), 'r',\n",
    "        label='Population theoretical pdf')\n",
    "\n",
    "\n",
    "# Now randomly select a sample from the population\n",
    "sample_size = 100\n",
    "sample = np.random.choice(population,\n",
    "                          size=sample_size,\n",
    "                          replace=False)\n",
    "_ = ax.hist(sample,\n",
    "            bins=bins,\n",
    "            density=True,\n",
    "            label='Sample emplirical pdf',\n",
    "            alpha=0.6,\n",
    "            color='g')\n",
    "ax.legend()\n",
    "ax.set_xlabel('Future prediction ability')\n",
    "ax.set_ylabel('Probability Distribution Function')\n",
    "\n",
    "plt.show()"
   ]
  },
  {
   "cell_type": "code",
   "execution_count": 95,
   "metadata": {
    "ExecuteTime": {
     "end_time": "2021-08-30T21:46:06.397000Z",
     "start_time": "2021-08-30T21:46:06.098000Z"
    },
    "slideshow": {
     "slide_type": "slide"
    }
   },
   "outputs": [
    {
     "data": {
      "image/png": "[encoded data removed]",
      "text/plain": [
       "<Figure size 432x288 with 1 Axes>"
      ]
     },
     "metadata": {
      "needs_background": "light"
     },
     "output_type": "display_data"
    }
   ],
   "source": [
    "sample_size = 100\n",
    "means_samples = np.array([np.mean(population[i*sample_size:(i+1)*sample_size])\n",
    "                          for i in range(pop_size//sample_size)])\n",
    "fig, ax = plt.subplots()\n",
    "_=ax.hist(means_samples,\n",
    "          density=True,\n",
    "          label='Mean of samples',\n",
    "          color='g')\n",
    "ax.axvline(pop_mean,\n",
    "           color='k',\n",
    "           linestyle='--',\n",
    "           label='Population mean')\n",
    "ax.legend()\n",
    "ax.set_ylabel('PDF')\n",
    "ax.set_xlabel('Mean of %d samples'%sample_size)\n",
    "\n",
    "plt.show()"
   ]
  },
  {
   "cell_type": "code",
   "execution_count": 96,
   "metadata": {
    "ExecuteTime": {
     "end_time": "2021-08-30T21:46:12.637000Z",
     "start_time": "2021-08-30T21:46:12.219000Z"
    },
    "scrolled": true,
    "slideshow": {
     "slide_type": "slide"
    }
   },
   "outputs": [
    {
     "data": {
      "image/png": "[encoded data removed]",
      "text/plain": [
       "<Figure size 576x432 with 1 Axes>"
      ]
     },
     "metadata": {
      "needs_background": "light"
     },
     "output_type": "display_data"
    }
   ],
   "source": [
    "sample_sizes = [1, 10, 20, 50, 100]\n",
    "xlocs = np.linspace(-2, 6, 100)\n",
    "fig, ax = plt.subplots(figsize=(8,6))\n",
    "for sample_size in sample_sizes:\n",
    "    means_samples = np.array([np.mean(population[i*sample_size:(i+1)*sample_size])\n",
    "                              for i in range(pop_size//sample_size)])\n",
    "    ax.plot(xlocs, sm.distributions.ECDF(means_samples)(xlocs),\n",
    "            label='Sample size %d'%(sample_size))\n",
    "ax.axvline(pop_mean,\n",
    "           color='k',\n",
    "           linestyle='--',\n",
    "           label='Population mean')\n",
    "ax.legend()\n",
    "ax.set_ylabel('CDF')\n",
    "ax.set_xlabel('Mean of samples of different sizes')\n",
    "\n",
    "plt.show()"
   ]
  },
  {
   "cell_type": "markdown",
   "metadata": {
    "slideshow": {
     "slide_type": "fragment"
    }
   },
   "source": [
    "&nbsp;\n",
    "\n",
    "&nbsp;\n",
    "\n",
    "&nbsp;\n",
    "\n",
    "&nbsp;"
   ]
  },
  {
   "cell_type": "markdown",
   "metadata": {
    "slideshow": {
     "slide_type": "slide"
    }
   },
   "source": [
    "## So to conclude, "
   ]
  },
  {
   "cell_type": "markdown",
   "metadata": {
    "slideshow": {
     "slide_type": "fragment"
    }
   },
   "source": [
    "* the mean of your sample is expected to be the mean of the population"
   ]
  },
  {
   "cell_type": "markdown",
   "metadata": {
    "slideshow": {
     "slide_type": "fragment"
    }
   },
   "source": [
    "* the expected uncertainty of this mean (i.e., s.e.m) reduces when you have larger samples"
   ]
  },
  {
   "cell_type": "markdown",
   "metadata": {
    "slideshow": {
     "slide_type": "slide"
    }
   },
   "source": [
    "# PART 3. p value and power"
   ]
  },
  {
   "cell_type": "markdown",
   "metadata": {
    "slideshow": {
     "slide_type": "slide"
    }
   },
   "source": [
    "Great! Now you want to say something **USEFUL** about your experiment. How do you do this?"
   ]
  },
  {
   "cell_type": "markdown",
   "metadata": {
    "slideshow": {
     "slide_type": "subslide"
    }
   },
   "source": [
    "In your sample, you found that the mice gained the ability to predict the future. Example useful statements about this are of the type: "
   ]
  },
  {
   "cell_type": "markdown",
   "metadata": {
    "slideshow": {
     "slide_type": "fragment"
    }
   },
   "source": [
    "* My statement has the chance of being wrong with XX probability. Given this low probability, I am gonna say this is a **truth of the world**"
   ]
  },
  {
   "cell_type": "markdown",
   "metadata": {
    "slideshow": {
     "slide_type": "subslide"
    }
   },
   "source": [
    "But what do I mean by \"probability of **being wrong**\"? Here, we will consider three types of error probabilities"
   ]
  },
  {
   "cell_type": "markdown",
   "metadata": {
    "slideshow": {
     "slide_type": "fragment"
    }
   },
   "source": [
    "* The probability that I will find an effect in my sample given that there is no real effect in the population."
   ]
  },
  {
   "cell_type": "markdown",
   "metadata": {
    "slideshow": {
     "slide_type": "fragment"
    }
   },
   "source": [
    "* The probability that I will find no effect in my sample given that there is a real effect in the population."
   ]
  },
  {
   "cell_type": "markdown",
   "metadata": {
    "slideshow": {
     "slide_type": "fragment"
    }
   },
   "source": [
    "* The probability that there is a real effect in the population given that I found an effect in my sample."
   ]
  },
  {
   "cell_type": "markdown",
   "metadata": {
    "slideshow": {
     "slide_type": "slide"
    }
   },
   "source": [
    "## Illustration of p value\n",
    "\n",
    "Everything you will see from now on applies to ANY statistical test. For simplicity, we will use a t test."
   ]
  },
  {
   "cell_type": "code",
   "execution_count": 99,
   "metadata": {
    "ExecuteTime": {
     "end_time": "2021-08-30T23:01:30.600000Z",
     "start_time": "2021-08-30T23:01:30.397000Z"
    },
    "slideshow": {
     "slide_type": "slide"
    }
   },
   "outputs": [
    {
     "name": "stdout",
     "output_type": "stream",
     "text": [
      "Mean = 0.23629531694798236\n"
     ]
    },
    {
     "data": {
      "image/png": "[encoded data removed]",
      "text/plain": [
       "<Figure size 432x288 with 1 Axes>"
      ]
     },
     "metadata": {
      "needs_background": "light"
     },
     "output_type": "display_data"
    }
   ],
   "source": [
    "import statsmodels.api as sm\n",
    "\n",
    "# Create a random sample\n",
    "\n",
    "np.random.seed(6)\n",
    "\n",
    "pop_mean = 0\n",
    "pop_std = 1\n",
    "\n",
    "# Create a random sample of 20 numbers from a normal distribution\n",
    "# with the above population mean and std.\n",
    "sample_size = 20\n",
    "sample = np.random.normal(pop_mean, pop_std, size=(sample_size,))\n",
    "\n",
    "plt.title(f'Sample of size {sample_size}')\n",
    "plt.hist(sample);\n",
    "plt.axvline(sample.mean(), c='k', ls='--')\n",
    "plt.xlabel('Value')\n",
    "plt.ylabel('Count')\n",
    "print(\"Mean = {}\".format(sample.mean()))"
   ]
  },
  {
   "cell_type": "code",
   "execution_count": 100,
   "metadata": {
    "ExecuteTime": {
     "end_time": "2021-08-30T22:15:54.078000Z",
     "start_time": "2021-08-30T22:15:54.042000Z"
    },
    "slideshow": {
     "slide_type": "fragment"
    }
   },
   "outputs": [
    {
     "name": "stdout",
     "output_type": "stream",
     "text": [
      "t-test result: t = 0.943, p = 0.3576130217119454\n"
     ]
    }
   ],
   "source": [
    "# Let's do a t-test to check if this sample mean is different from 0\n",
    "t, p = stats.ttest_1samp(sample, 0)\n",
    "print(f't-test result: t = {t:0.3f}, p = {p}')"
   ]
  },
  {
   "cell_type": "markdown",
   "metadata": {
    "slideshow": {
     "slide_type": "fragment"
    }
   },
   "source": [
    "&nbsp;\n",
    "\n",
    "&nbsp;\n",
    "\n",
    "&nbsp;\n",
    "\n",
    "&nbsp;"
   ]
  },
  {
   "cell_type": "markdown",
   "metadata": {
    "slideshow": {
     "slide_type": "subslide"
    }
   },
   "source": [
    "That seems reasonable. We found that when 20 samples are drawn from a normal distribution of population mean 0, a test of whether the inferred population mean is different from zero yields a non-significant p value, suggesting that the mean is indeed not different from zero."
   ]
  },
  {
   "cell_type": "markdown",
   "metadata": {
    "slideshow": {
     "slide_type": "slide"
    }
   },
   "source": [
    "But what happens if you repeat this test 1000 times? We will store the p value obtained from each experiment and plot its CDF to look at the distribution of the p values"
   ]
  },
  {
   "cell_type": "code",
   "execution_count": 101,
   "metadata": {
    "ExecuteTime": {
     "end_time": "2021-08-30T23:04:12.608000Z",
     "start_time": "2021-08-30T23:04:12.238000Z"
    },
    "scrolled": true,
    "slideshow": {
     "slide_type": "slide"
    }
   },
   "outputs": [
    {
     "name": "stdout",
     "output_type": "stream",
     "text": [
      "With significance level at 0.05:\n",
      "Number of tests with p<0.05 = 46\n",
      "Fraction of tests with p<0.05 = 0.046\n"
     ]
    },
    {
     "data": {
      "image/png": "[encoded data removed]",
      "text/plain": [
       "<Figure size 432x288 with 1 Axes>"
      ]
     },
     "metadata": {
      "needs_background": "light"
     },
     "output_type": "display_data"
    }
   ],
   "source": [
    "numexperiments = 1000\n",
    "pvals_experiment = np.nan*np.ones((numexperiments,))\n",
    "for i in range(numexperiments):\n",
    "    sample = np.random.normal(pop_mean, pop_std,\n",
    "                              size=(sample_size,))\n",
    "    _, pvals_experiment[i] = stats.ttest_1samp(sample, 0)\n",
    "    \n",
    "fig, ax = plt.subplots()\n",
    "ax.plot(np.sort(pvals_experiment), sm.distributions.ECDF(pvals_experiment)(np.sort(pvals_experiment)))\n",
    "ax.plot([0, 1], [0, 1], '--k')\n",
    "ax.set_xlabel('p value')\n",
    "ax.set_ylabel('CDF')\n",
    "\n",
    "print('With significance level at 0.05:')\n",
    "print(f'Number of tests with p<0.05 = {np.sum(pvals_experiment<0.05)}')\n",
    "print(f'Fraction of tests with p<0.05 = {np.sum(pvals_experiment<0.05) / numexperiments}')"
   ]
  },
  {
   "cell_type": "markdown",
   "metadata": {
    "slideshow": {
     "slide_type": "fragment"
    }
   },
   "source": [
    "&nbsp;\n",
    "\n",
    "&nbsp;\n",
    "\n",
    "&nbsp;\n",
    "\n",
    "&nbsp;"
   ]
  },
  {
   "cell_type": "markdown",
   "metadata": {
    "slideshow": {
     "slide_type": "slide"
    }
   },
   "source": [
    "This is kinda crazy! Even though **WE KNOW** there is no effect, ~50 experiments yielded significant p values!"
   ]
  },
  {
   "cell_type": "markdown",
   "metadata": {
    "slideshow": {
     "slide_type": "slide"
    }
   },
   "source": [
    "The reason for this is that every test results in false positives! Even though there really was no real effect, there still can be false positives!\n",
    "\n",
    "How can we calculate the false positive rate from the above graph?"
   ]
  },
  {
   "cell_type": "code",
   "execution_count": 102,
   "metadata": {
    "ExecuteTime": {
     "end_time": "2021-08-30T22:21:00.679000Z",
     "start_time": "2021-08-30T22:21:00.468000Z"
    },
    "slideshow": {
     "slide_type": "slide"
    }
   },
   "outputs": [
    {
     "data": {
      "image/png": "[encoded data removed]",
      "text/plain": [
       "<Figure size 432x288 with 1 Axes>"
      ]
     },
     "metadata": {
      "needs_background": "light"
     },
     "output_type": "display_data"
    }
   ],
   "source": [
    "fig, ax = plt.subplots();\n",
    "ax.plot(np.sort(pvals_experiment), sm.distributions.ECDF(pvals_experiment)(np.sort(pvals_experiment)));\n",
    "ax.fill_between(np.sort(pvals_experiment), sm.distributions.ECDF(pvals_experiment)(np.sort(pvals_experiment)),\n",
    "                where=np.sort(pvals_experiment)<0.05,\n",
    "                facecolor='r');\n",
    "ax.axvline(0.05,\n",
    "           color='r',\n",
    "           linestyle='--');\n",
    "ax.axhline(sm.distributions.ECDF(pvals_experiment)(0.05),\n",
    "           color='r',\n",
    "           linestyle='--');\n",
    "ax.plot([0, 1], [0, 1], '--k');\n",
    "ax.set_xlabel('p value');\n",
    "ax.set_ylabel('CDF');"
   ]
  },
  {
   "cell_type": "markdown",
   "metadata": {
    "slideshow": {
     "slide_type": "slide"
    }
   },
   "source": [
    "### p value = 0.05 does not necessarily result in a false positive rate of 0.05 if you violate the assumptions of the test\n",
    "\n",
    "Here, we will use a two sample t test. A two sample t test tests whether two different populations have different means from each other. This test still assumes normality for both populations just like the one sample t test. "
   ]
  },
  {
   "cell_type": "markdown",
   "metadata": {
    "slideshow": {
     "slide_type": "fragment"
    }
   },
   "source": [
    "But it makes an additional assumption, which is that both populations have equal variance. We will now test how sensitive this test is to this assumption."
   ]
  },
  {
   "cell_type": "code",
   "execution_count": 103,
   "metadata": {
    "ExecuteTime": {
     "end_time": "2021-08-30T22:26:26.754000Z",
     "start_time": "2021-08-30T22:26:26.356000Z"
    },
    "slideshow": {
     "slide_type": "slide"
    }
   },
   "outputs": [
    {
     "name": "stdout",
     "output_type": "stream",
     "text": [
      "Both means = 0\n",
      "Group 1 S.D. = 1\n",
      "Group 2 S.D. = 10\n",
      "False positive rate = 0.08\n"
     ]
    },
    {
     "data": {
      "image/png": "[encoded data removed]",
      "text/plain": [
       "<Figure size 432x288 with 1 Axes>"
      ]
     },
     "metadata": {
      "needs_background": "light"
     },
     "output_type": "display_data"
    }
   ],
   "source": [
    "sample_size1=6\n",
    "sample_size2=6\n",
    "\n",
    "std_1 = 1\n",
    "std_2 = 10\n",
    "\n",
    "np.random.seed(87)\n",
    "\n",
    "numexperiments = 1000\n",
    "pvals_experiment = np.nan*np.ones((numexperiments,))\n",
    "for i in range(numexperiments):\n",
    "    sample1 = np.random.normal(0, std_1, size=(sample_size1,))\n",
    "    sample2 = np.random.normal(0, std_2, size=(sample_size2,))\n",
    "#     print sample1, sample2\n",
    "    _, pvals_experiment[i] = stats.ttest_ind(sample1, sample2,\n",
    "                                             equal_var=True)\n",
    "    \n",
    "fig, ax = plt.subplots()\n",
    "ax.plot(np.sort(pvals_experiment), sm.distributions.ECDF(pvals_experiment)(np.sort(pvals_experiment)))\n",
    "ax.plot([0, 1], [0, 1], '--k')\n",
    "ax.axvline(0.05,\n",
    "           color='r',\n",
    "           linestyle='--')\n",
    "ax.set_xlabel('p value')\n",
    "ax.set_ylabel('CDF')\n",
    "\n",
    "print('Both means = 0')\n",
    "print(f'Group 1 S.D. = {std_1}')\n",
    "print(f'Group 2 S.D. = {std_2}')\n",
    "\n",
    "print(f'False positive rate = {(np.sum(pvals_experiment<0.05)+0.0)/numexperiments}')"
   ]
  },
  {
   "cell_type": "markdown",
   "metadata": {
    "slideshow": {
     "slide_type": "subslide"
    }
   },
   "source": [
    "It has a slightly higher false positive rate of ~8% even though test says it must be 5%, but this is not too bad, especially considering that the variances are an order of magnitude different"
   ]
  },
  {
   "cell_type": "markdown",
   "metadata": {
    "slideshow": {
     "slide_type": "subslide"
    }
   },
   "source": [
    "What if the sample sizes are also different?"
   ]
  },
  {
   "cell_type": "code",
   "execution_count": 105,
   "metadata": {
    "ExecuteTime": {
     "end_time": "2021-08-30T22:33:42.448000Z",
     "start_time": "2021-08-30T22:33:42.019000Z"
    },
    "slideshow": {
     "slide_type": "slide"
    }
   },
   "outputs": [
    {
     "name": "stdout",
     "output_type": "stream",
     "text": [
      "Both means = 0\n",
      "Group 1 N = 60\n",
      "Group 1 S.D. = 1\n",
      "Group 2 N = 6\n",
      "Group 2 S.D. = 10\n",
      "False positive rate for t test = 0.575\n"
     ]
    },
    {
     "data": {
      "image/png": "[encoded data removed]",
      "text/plain": [
       "<Figure size 432x288 with 1 Axes>"
      ]
     },
     "metadata": {
      "needs_background": "light"
     },
     "output_type": "display_data"
    }
   ],
   "source": [
    "sample_size1=60\n",
    "sample_size2=6\n",
    "\n",
    "std_1 = 1\n",
    "std_2 = 10\n",
    "\n",
    "np.random.seed(88)\n",
    "\n",
    "numexperiments = 1000\n",
    "pvals_ttest = np.nan*np.ones((numexperiments,))\n",
    "pvals_mannwhitneyu = np.nan*np.ones((numexperiments,))\n",
    "for i in range(numexperiments):\n",
    "    sample1 = np.random.normal(1, std_1, size=(sample_size1,))\n",
    "    sample2 = np.random.normal(1, std_2, size=(sample_size2,))\n",
    "#     print sample1, sample2\n",
    "    _, pvals_ttest[i] = stats.ttest_ind(sample1, sample2, equal_var=True)\n",
    "#     _, pvals_mannwhitneyu[i] = stats.mannwhitneyu(sample1, sample2, alternative='two-sided')\n",
    "    \n",
    "fig, ax = plt.subplots()\n",
    "ax.plot(np.sort(pvals_ttest), sm.distributions.ECDF(pvals_ttest)(np.sort(pvals_ttest)), label='t test')\n",
    "# ax.plot(np.sort(pvals_mannwhitneyu),\n",
    "#         sm.distributions.ECDF(pvals_mannwhitneyu)(np.sort(pvals_mannwhitneyu)),\n",
    "#         label='Mann Whitney U test')\n",
    "ax.plot([0, 1], [0, 1], '--k')\n",
    "ax.axvline(0.05,\n",
    "           color='r',\n",
    "           linestyle='--')\n",
    "ax.set_xlabel('p value')\n",
    "ax.set_ylabel('CDF')\n",
    "ax.legend()\n",
    "\n",
    "print('Both means = 0')\n",
    "print(f'Group 1 N = {sample_size1}')\n",
    "print(f'Group 1 S.D. = {std_1}')\n",
    "print(f'Group 2 N = {sample_size2}')\n",
    "print(f'Group 2 S.D. = {std_2}')\n",
    "\n",
    "print(f'False positive rate for t test = {(np.sum(pvals_ttest<0.05)+0.0)/numexperiments}')\n",
    "# print 'Rate of positives (either power or false positive rate) for U test = %f'%((np.sum(pvals_mannwhitneyu<0.05)+0.0)/numexperiments)"
   ]
  },
  {
   "cell_type": "markdown",
   "metadata": {
    "slideshow": {
     "slide_type": "slide"
    }
   },
   "source": [
    "### So to conclude, just because a test says p = 0.05 does NOT mean the false positive rate is 5%. It is your job to actually measure the false positive rate of your test and report *that number* as the correct p value of your test"
   ]
  },
  {
   "cell_type": "markdown",
   "metadata": {
    "slideshow": {
     "slide_type": "slide"
    }
   },
   "source": [
    "## Illustration of power\n",
    "\n",
    "Now we are ready to move on to something more useful. Ensuring false positive rates are controlled is basically just a sanity check that our method doesn't give us absurd results when there really isn't any effect. "
   ]
  },
  {
   "cell_type": "markdown",
   "metadata": {
    "slideshow": {
     "slide_type": "fragment"
    }
   },
   "source": [
    "But what if there indeed is a real effect? How often can we detect a significant difference between two populations that truly are different?"
   ]
  },
  {
   "cell_type": "markdown",
   "metadata": {
    "slideshow": {
     "slide_type": "fragment"
    }
   },
   "source": [
    "All we have to do to find out is to use the same code as we previously used for estimating false positives but now have two populations that are truly different from each other"
   ]
  },
  {
   "cell_type": "code",
   "execution_count": 106,
   "metadata": {
    "ExecuteTime": {
     "end_time": "2021-08-30T22:41:51.799000Z",
     "start_time": "2021-08-30T22:41:51.379000Z"
    },
    "slideshow": {
     "slide_type": "slide"
    }
   },
   "outputs": [
    {
     "name": "stdout",
     "output_type": "stream",
     "text": [
      "Both N = 6\n",
      "Both S.D. = 1\n",
      "Group 1 mean = 1\n",
      "Group 2 mean = 0\n",
      "Rate of positives, i.e., power = 0.337\n"
     ]
    },
    {
     "data": {
      "image/png": "[encoded data removed]",
      "text/plain": [
       "<Figure size 432x288 with 1 Axes>"
      ]
     },
     "metadata": {
      "needs_background": "light"
     },
     "output_type": "display_data"
    }
   ],
   "source": [
    "sample_size1=6\n",
    "sample_size2=6\n",
    "\n",
    "mean_1 = 1\n",
    "mean_2 = 0\n",
    "\n",
    "std_1 = 1\n",
    "std_2 = 1\n",
    "\n",
    "numexperiments = 1000\n",
    "pvals_experiment = np.nan*np.ones((numexperiments,))\n",
    "for i in range(numexperiments):\n",
    "    sample1 = np.random.normal(mean_1, std_1,\n",
    "                               size=(sample_size1,))\n",
    "    sample2 = np.random.normal(mean_2, std_2,\n",
    "                               size=(sample_size2,))\n",
    "#     print sample1, sample2\n",
    "    _, pvals_experiment[i] = stats.ttest_ind(sample1, sample2,\n",
    "                                             equal_var=False)\n",
    "    \n",
    "fig, ax = plt.subplots()\n",
    "ax.plot(np.sort(pvals_experiment), sm.distributions.ECDF(pvals_experiment)(np.sort(pvals_experiment)))\n",
    "ax.plot([0, 1], [0, 1], '--k')\n",
    "ax.axvline(0.05,\n",
    "           color='g',\n",
    "           linestyle='--')\n",
    "ax.set_xlabel('p value')\n",
    "ax.set_ylabel('CDF')\n",
    "\n",
    "print( f'Both N = {sample_size1}' )\n",
    "print( f'Both S.D. = {std_1}' )\n",
    "print( f'Group 1 mean = {mean_1}' )\n",
    "print( f'Group 2 mean = {mean_2}' )\n",
    "\n",
    "print(f'Rate of positives, i.e., power = {(np.sum(pvals_experiment<0.05)+0.0)/numexperiments}')"
   ]
  },
  {
   "cell_type": "markdown",
   "metadata": {
    "slideshow": {
     "slide_type": "subslide"
    }
   },
   "source": [
    "This probability--the probability that you can detect a significant difference between two populations when they are truly different--is called statistical **power**. "
   ]
  },
  {
   "cell_type": "markdown",
   "metadata": {
    "slideshow": {
     "slide_type": "subslide"
    }
   },
   "source": [
    "Can you guess three ways in which we can increase the power?"
   ]
  },
  {
   "cell_type": "markdown",
   "metadata": {
    "slideshow": {
     "slide_type": "slide"
    }
   },
   "source": [
    "# We've covered"
   ]
  },
  {
   "cell_type": "markdown",
   "metadata": {
    "slideshow": {
     "slide_type": "fragment"
    }
   },
   "source": [
    "* Making inferences about populations based on samples\n",
    "    * Distributional assumptions"
   ]
  },
  {
   "cell_type": "markdown",
   "metadata": {
    "slideshow": {
     "slide_type": "fragment"
    }
   },
   "source": [
    "* Getting some help from asymptotics\n",
    "    * The central limit theorem means most means tend toward normal\n",
    "    * Our measurements get more precise with more samples"
   ]
  },
  {
   "cell_type": "markdown",
   "metadata": {
    "slideshow": {
     "slide_type": "subslide"
    }
   },
   "source": [
    "## We've covered"
   ]
  },
  {
   "cell_type": "markdown",
   "metadata": {
    "slideshow": {
     "slide_type": "fragment"
    }
   },
   "source": [
    "* The probability that I will **find an effect** in my sample given that **there is no real effect** in the population.\n",
    "    * The **$p$-value** (under good conditions)"
   ]
  },
  {
   "cell_type": "markdown",
   "metadata": {
    "slideshow": {
     "slide_type": "fragment"
    }
   },
   "source": [
    "* The probability that I will **find no effect** in my sample given that **there is a real effect** in the population.\n",
    "    * $1 -$ the **power**"
   ]
  },
  {
   "cell_type": "markdown",
   "metadata": {
    "slideshow": {
     "slide_type": "subslide"
    }
   },
   "source": [
    "## But how do we know whether there actually is an effect?"
   ]
  },
  {
   "cell_type": "markdown",
   "metadata": {
    "slideshow": {
     "slide_type": "skip"
    }
   },
   "source": [
    "## Illustration of positive predictive value"
   ]
  },
  {
   "cell_type": "markdown",
   "metadata": {
    "slideshow": {
     "slide_type": "skip"
    }
   },
   "source": [
    "Let us now go back to the original result you found about your favorite neurons increasing the ability of mice to predict the future. "
   ]
  },
  {
   "cell_type": "markdown",
   "metadata": {
    "slideshow": {
     "slide_type": "skip"
    }
   },
   "source": [
    "Is this likely to be a false positive (i.e., the population has no real effect) or a true positive (i.e., the population has a real effect)?"
   ]
  },
  {
   "cell_type": "markdown",
   "metadata": {
    "slideshow": {
     "slide_type": "skip"
    }
   },
   "source": [
    "How do we quantify the intuition that the result we obtained is likely due to chance?"
   ]
  },
  {
   "cell_type": "markdown",
   "metadata": {
    "slideshow": {
     "slide_type": "skip"
    }
   },
   "source": [
    "People often say p value quantifies the probability that our result happened by chance. This is wrong. p value measures the probability of seeing a result at least as strong as what we observed given that there was no effect."
   ]
  },
  {
   "cell_type": "markdown",
   "metadata": {
    "slideshow": {
     "slide_type": "skip"
    }
   },
   "source": [
    "i.e., p value := p(effect in your sample | no clairvoyance in population)"
   ]
  },
  {
   "cell_type": "markdown",
   "metadata": {
    "slideshow": {
     "slide_type": "skip"
    }
   },
   "source": [
    "Instead, what you really want to know is p(clairvoyance in population | effect in your sample). This number is called the positive predictive value."
   ]
  },
  {
   "cell_type": "markdown",
   "metadata": {
    "slideshow": {
     "slide_type": "skip"
    }
   },
   "source": [
    "If positive predictive value is high, the effect you observed is unlikely to be due to chance"
   ]
  },
  {
   "cell_type": "markdown",
   "metadata": {
    "slideshow": {
     "slide_type": "skip"
    }
   },
   "source": [
    "We will now see a real-world example of this in relation to covid tests"
   ]
  }
 ],
 "metadata": {
  "celltoolbar": "Slideshow",
  "kernelspec": {
   "display_name": "Python 3 (ipykernel)",
   "language": "python",
   "name": "python3"
  },
  "language_info": {
   "codemirror_mode": {
    "name": "ipython",
    "version": 3
   },
   "file_extension": ".py",
   "mimetype": "text/x-python",
   "name": "python",
   "nbconvert_exporter": "python",
   "pygments_lexer": "ipython3",
   "version": "3.10.4"
  },
  "varInspector": {
   "cols": {
    "lenName": 16,
    "lenType": 16,
    "lenVar": 40
   },
   "kernels_config": {
    "python": {
     "delete_cmd_postfix": "",
     "delete_cmd_prefix": "del ",
     "library": "var_list.py",
     "varRefreshCmd": "print(var_dic_list())"
    },
    "r": {
     "delete_cmd_postfix": ") ",
     "delete_cmd_prefix": "rm(",
     "library": "var_list.r",
     "varRefreshCmd": "cat(var_dic_list()) "
    }
   },
   "types_to_exclude": [
    "module",
    "function",
    "builtin_function_or_method",
    "instance",
    "_Feature"
   ],
   "window_display": false
  }
 },
 "nbformat": 4,
 "nbformat_minor": 4
}
